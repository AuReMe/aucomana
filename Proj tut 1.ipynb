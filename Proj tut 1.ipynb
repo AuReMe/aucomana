{
 "cells": [
  {
   "cell_type": "markdown",
   "id": "1b10a16d",
   "metadata": {},
   "source": [
    "# Projet tutoré"
   ]
  },
  {
   "cell_type": "markdown",
   "id": "e9e66485",
   "metadata": {},
   "source": [
    "## Import"
   ]
  },
  {
   "cell_type": "code",
   "execution_count": 3,
   "id": "f274e2d6",
   "metadata": {},
   "outputs": [],
   "source": [
    "import pandas as pd # Afin de gérer les tableaux \n",
    "import numpy as np"
   ]
  },
  {
   "cell_type": "code",
   "execution_count": 4,
   "id": "1f8adfad",
   "metadata": {},
   "outputs": [
    {
     "name": "stderr",
     "output_type": "stream",
     "text": [
      "/home/paulinehg/anaconda3/lib/python3.9/site-packages/IPython/core/interactiveshell.py:3444: DtypeWarning: Columns (48,49,50,51,52,53,54,55,56,62,63,73,93,95,96,97,98,99,100,101,102,103,109,120,140) have mixed types.Specify dtype option on import or set low_memory=False.\n",
      "  exec(code_obj, self.user_global_ns, self.user_ns)\n"
     ]
    },
    {
     "data": {
      "text/plain": [
       "<bound method NDFrame.head of                           reaction  Galdieria_sulphuraria  Neurospora_crassa  \\\n",
       "0                   HOMOCYSMET-RXN                      1                  1   \n",
       "1                         RXN-1827                      1                  0   \n",
       "2                        RXN-19009                      1                  0   \n",
       "3                        RXN0-1141                      1                  1   \n",
       "4                        RXN-19141                      1                  0   \n",
       "...                            ...                    ...                ...   \n",
       "4882                  2.6.1.50-RXN                      0                  0   \n",
       "4883                      RXN-8581                      0                  0   \n",
       "4884        UDP-NACMUR-ALA-LIG-RXN                      0                  0   \n",
       "4885                      RXN-9909                      0                  0   \n",
       "4886  BENZYL-ALC-DEHYDROGENASE-RXN                      0                  0   \n",
       "\n",
       "      Ectocarpus_crouaniorum  Laminarionema_elsbetiae  Nemacystus_decipiens  \\\n",
       "0                          1                        1                     1   \n",
       "1                          0                        0                     0   \n",
       "2                          0                        1                     0   \n",
       "3                          1                        1                     1   \n",
       "4                          1                        1                     1   \n",
       "...                      ...                      ...                   ...   \n",
       "4882                       0                        0                     0   \n",
       "4883                       0                        0                     0   \n",
       "4884                       0                        0                     0   \n",
       "4885                       0                        0                     0   \n",
       "4886                       0                        0                     0   \n",
       "\n",
       "      Ectocarpus_subulatus  Gonium_pectorale  Saccharina_japonica  \\\n",
       "0                        1                 1                    1   \n",
       "1                        0                 1                    0   \n",
       "2                        0                 0                    1   \n",
       "3                        1                 1                    1   \n",
       "4                        1                 1                    1   \n",
       "...                    ...               ...                  ...   \n",
       "4882                     0                 0                    0   \n",
       "4883                     0                 0                    0   \n",
       "4884                     0                 0                    0   \n",
       "4885                     0                 0                    0   \n",
       "4886                     0                 0                    0   \n",
       "\n",
       "      Tetrabaena_socialis  ...  \\\n",
       "0                       1  ...   \n",
       "1                       1  ...   \n",
       "2                       0  ...   \n",
       "3                       1  ...   \n",
       "4                       1  ...   \n",
       "...                   ...  ...   \n",
       "4882                    0  ...   \n",
       "4883                    0  ...   \n",
       "4884                    0  ...   \n",
       "4885                    0  ...   \n",
       "4886                    0  ...   \n",
       "\n",
       "                           Chlorella_variabilis_formula  \\\n",
       "0     1 HOMO-CYS[c] + 1 CPD-1302[c] <=> 1 CPD-1301[c...   \n",
       "1     1 1-4-alpha-D-Glucan[c] + 1 WATER[c] => 1 1-4-...   \n",
       "2                                                   NaN   \n",
       "3     1 Gcv-H[c] + 1 ATP[c] + 1 LIPOIC-ACID[c] => 1 ...   \n",
       "4     1 NEUROSPORENE[c] + 1 ETR-Quinones[c] => 1 CPD...   \n",
       "...                                                 ...   \n",
       "4882                                                NaN   \n",
       "4883                                                NaN   \n",
       "4884                                                NaN   \n",
       "4885                                                NaN   \n",
       "4886                                                NaN   \n",
       "\n",
       "                         Cladosiphon_okamuranus_formula  \\\n",
       "0     1 CPD-1302[c] + 1 HOMO-CYS[c] <=> 1 CPD-1301[c...   \n",
       "1                                                   NaN   \n",
       "2                                                   NaN   \n",
       "3     1 Gcv-H[c] + 1 ATP[c] + 1 LIPOIC-ACID[c] => 1 ...   \n",
       "4     1 NEUROSPORENE[c] + 1 ETR-Quinones[c] => 1 CPD...   \n",
       "...                                                 ...   \n",
       "4882                                                NaN   \n",
       "4883                                                NaN   \n",
       "4884                                                NaN   \n",
       "4885                                                NaN   \n",
       "4886                                                NaN   \n",
       "\n",
       "                        Monoraphidium_neglectum_formula  \\\n",
       "0     1 CPD-1302[c] + 1 HOMO-CYS[c] <=> 1 CPD-1301[c...   \n",
       "1     1 1-4-alpha-D-Glucan[c] + 1 WATER[c] => 1 1-4-...   \n",
       "2     1 CPD-13118[c] + 1 N4-N-ACETYL-BETA-D-GLUCOSAM...   \n",
       "3     1 LIPOIC-ACID[c] + 1 Gcv-H[c] + 1 ATP[c] => 1 ...   \n",
       "4     1 NEUROSPORENE[c] + 1 ETR-Quinones[c] => 1 CPD...   \n",
       "...                                                 ...   \n",
       "4882                                                NaN   \n",
       "4883                                                NaN   \n",
       "4884                                                NaN   \n",
       "4885                                                NaN   \n",
       "4886                                                NaN   \n",
       "\n",
       "                           Porphyra_umbilicalis_formula  \\\n",
       "0     1 CPD-1302[c] + 1 HOMO-CYS[c] <=> 1 CPD-1301[c...   \n",
       "1     1 1-4-alpha-D-Glucan[c] + 1 WATER[c] => 1 1-4-...   \n",
       "2     1 CPD-13118[c] + 1 N4-N-ACETYL-BETA-D-GLUCOSAM...   \n",
       "3     1 Gcv-H[c] + 1 ATP[c] + 1 LIPOIC-ACID[c] => 1 ...   \n",
       "4     1 NEUROSPORENE[c] + 1 ETR-Quinones[c] => 1 CPD...   \n",
       "...                                                 ...   \n",
       "4882                                                NaN   \n",
       "4883                                                NaN   \n",
       "4884                                                NaN   \n",
       "4885                                                NaN   \n",
       "4886                                                NaN   \n",
       "\n",
       "                            Undaria_pinnatifida_formula  \\\n",
       "0     1 HOMO-CYS[c] + 1 CPD-1302[c] <=> 1 CPD-1301[c...   \n",
       "1                                                   NaN   \n",
       "2     1 CPD-13118[c] + 1 N4-N-ACETYL-BETA-D-GLUCOSAM...   \n",
       "3     1 Gcv-H[c] + 1 ATP[c] + 1 LIPOIC-ACID[c] => 1 ...   \n",
       "4     1 NEUROSPORENE[c] + 1 ETR-Quinones[c] => 1 CPD...   \n",
       "...                                                 ...   \n",
       "4882                                                NaN   \n",
       "4883                                                NaN   \n",
       "4884                                                NaN   \n",
       "4885                                                NaN   \n",
       "4886                                                NaN   \n",
       "\n",
       "                                 Ulva_mutabilis_formula  \\\n",
       "0     1 CPD-1302[c] + 1 HOMO-CYS[c] <=> 1 CPD-1301[c...   \n",
       "1     1 1-4-alpha-D-Glucan[c] + 1 WATER[c] => 1 1-4-...   \n",
       "2                                                   NaN   \n",
       "3     1 ATP[c] + 1 LIPOIC-ACID[c] + 1 Gcv-H[c] => 1 ...   \n",
       "4     1 NEUROSPORENE[c] + 1 ETR-Quinones[c] => 1 CPD...   \n",
       "...                                                 ...   \n",
       "4882                                                NaN   \n",
       "4883                                                NaN   \n",
       "4884                                                NaN   \n",
       "4885                                                NaN   \n",
       "4886                                                NaN   \n",
       "\n",
       "                              Tisochrysis_lutea_formula  \\\n",
       "0     1 CPD-1302[c] + 1 HOMO-CYS[c] <=> 1 CPD-1301[c...   \n",
       "1                                                   NaN   \n",
       "2                                                   NaN   \n",
       "3     1 Gcv-H[c] + 1 ATP[c] + 1 LIPOIC-ACID[c] => 1 ...   \n",
       "4     1 NEUROSPORENE[c] + 1 ETR-Quinones[c] => 1 CPD...   \n",
       "...                                                 ...   \n",
       "4882                                                NaN   \n",
       "4883                                                NaN   \n",
       "4884                                                NaN   \n",
       "4885                                                NaN   \n",
       "4886                                                NaN   \n",
       "\n",
       "                       Nannochloropsis_gaditana_formula  \\\n",
       "0     1 CPD-1302[c] + 1 HOMO-CYS[c] <=> 1 CPD-1301[c...   \n",
       "1                                                   NaN   \n",
       "2     1 CPD-13118[c] + 1 N4-N-ACETYL-BETA-D-GLUCOSAM...   \n",
       "3     1 Gcv-H[c] + 1 ATP[c] + 1 LIPOIC-ACID[c] => 1 ...   \n",
       "4     1 NEUROSPORENE[c] + 1 ETR-Quinones[c] => 1 CPD...   \n",
       "...                                                 ...   \n",
       "4882                                                NaN   \n",
       "4883                                                NaN   \n",
       "4884                                                NaN   \n",
       "4885                                                NaN   \n",
       "4886                                                NaN   \n",
       "\n",
       "                         Scytosiphon_lomentaria_formula  \\\n",
       "0     1 CPD-1302[c] + 1 HOMO-CYS[c] <=> 1 CPD-1301[c...   \n",
       "1                                                   NaN   \n",
       "2                                                   NaN   \n",
       "3     1 ATP[c] + 1 Gcv-H[c] + 1 LIPOIC-ACID[c] => 1 ...   \n",
       "4     1 NEUROSPORENE[c] + 1 ETR-Quinones[c] => 1 CPD...   \n",
       "...                                                 ...   \n",
       "4882                                                NaN   \n",
       "4883                                                NaN   \n",
       "4884                                                NaN   \n",
       "4885                                                NaN   \n",
       "4886                                                NaN   \n",
       "\n",
       "                             Micromonas_pusilla_formula  \n",
       "0     1 CPD-1302[c] + 1 HOMO-CYS[c] <=> 1 CPD-1301[c...  \n",
       "1     1 1-4-alpha-D-Glucan[c] + 1 WATER[c] => 1 1-4-...  \n",
       "2                                                   NaN  \n",
       "3     1 Gcv-H[c] + 1 ATP[c] + 1 LIPOIC-ACID[c] => 1 ...  \n",
       "4     1 NEUROSPORENE[c] + 1 ETR-Quinones[c] => 1 CPD...  \n",
       "...                                                 ...  \n",
       "4882  1 CPD-14808[c] + 1 GLN[c] <=> 1 CPD-1105[c] + ...  \n",
       "4883  1 4-METHYLBENZYL-ALCOHOL[c] + 1 NAD[c] => 1 PR...  \n",
       "4884  1 UDP-N-ACETYLMURAMATE[c] + 1 L-ALPHA-ALANINE[...  \n",
       "4885  1 CPD-10659[c] + 1 NAD[c] => 1 PROTON[c] + 1 C...  \n",
       "4886  1 BENZYL-ALCOHOL[c] + 1 NAD[c] <=> 1 PROTON[c]...  \n",
       "\n",
       "[4887 rows x 142 columns]>"
      ]
     },
     "execution_count": 4,
     "metadata": {},
     "output_type": "execute_result"
    }
   ],
   "source": [
    "data = pd.read_csv('run40_reactions.tsv',sep=\"\\t\", header=0) #Ouvrir le tableau \n",
    "data.head"
   ]
  },
  {
   "cell_type": "code",
   "execution_count": 5,
   "id": "34e80e45",
   "metadata": {},
   "outputs": [
    {
     "data": {
      "text/plain": [
       "<bound method NDFrame.head of       Thalassiosira_pseudonana  Fragilariopsis_cylindrus  \\\n",
       "0                            1                         1   \n",
       "1                            0                         0   \n",
       "2                            1                         1   \n",
       "3                            1                         1   \n",
       "4                            1                         1   \n",
       "...                        ...                       ...   \n",
       "4882                         0                         0   \n",
       "4883                         0                         0   \n",
       "4884                         0                         0   \n",
       "4885                         0                         0   \n",
       "4886                         0                         0   \n",
       "\n",
       "      Phaeodactylum_tricornutum  Nannochloropsis_gaditana  \\\n",
       "0                             1                         1   \n",
       "1                             0                         0   \n",
       "2                             1                         1   \n",
       "3                             1                         1   \n",
       "4                             1                         1   \n",
       "...                         ...                       ...   \n",
       "4882                          0                         0   \n",
       "4883                          0                         0   \n",
       "4884                          0                         0   \n",
       "4885                          0                         0   \n",
       "4886                          0                         0   \n",
       "\n",
       "      Ectocarpus_siliculosus  Ectocarpus_crouaniorum  Ectocarpus_subulatus  \\\n",
       "0                          1                       1                     1   \n",
       "1                          0                       0                     0   \n",
       "2                          0                       0                     0   \n",
       "3                          1                       1                     1   \n",
       "4                          1                       1                     1   \n",
       "...                      ...                     ...                   ...   \n",
       "4882                       0                       0                     0   \n",
       "4883                       0                       0                     0   \n",
       "4884                       0                       0                     0   \n",
       "4885                       0                       0                     0   \n",
       "4886                       0                       0                     0   \n",
       "\n",
       "      Ectocarpus_fasciculatus  Scytosiphon_lomentaria  Porterinema_fluviatile  \\\n",
       "0                           1                       1                       1   \n",
       "1                           0                       0                       0   \n",
       "2                           1                       0                       1   \n",
       "3                           1                       1                       1   \n",
       "4                           1                       1                       1   \n",
       "...                       ...                     ...                     ...   \n",
       "4882                        0                       0                       0   \n",
       "4883                        0                       0                       0   \n",
       "4884                        0                       0                       0   \n",
       "4885                        0                       0                       0   \n",
       "4886                        0                       0                       0   \n",
       "\n",
       "      Nemacystus_decipiens  Cladosiphon_okamuranus  Laminarionema_elsbetiae  \\\n",
       "0                        1                       1                        1   \n",
       "1                        0                       0                        0   \n",
       "2                        0                       0                        1   \n",
       "3                        1                       1                        1   \n",
       "4                        1                       1                        1   \n",
       "...                    ...                     ...                      ...   \n",
       "4882                     0                       0                        0   \n",
       "4883                     0                       0                        0   \n",
       "4884                     0                       0                        0   \n",
       "4885                     0                       0                        0   \n",
       "4886                     0                       0                        0   \n",
       "\n",
       "      Saccharina_japonica  Undaria_pinnatifida  \n",
       "0                       1                    1  \n",
       "1                       0                    0  \n",
       "2                       1                    1  \n",
       "3                       1                    1  \n",
       "4                       1                    1  \n",
       "...                   ...                  ...  \n",
       "4882                    0                    0  \n",
       "4883                    0                    0  \n",
       "4884                    0                    0  \n",
       "4885                    0                    0  \n",
       "4886                    0                    0  \n",
       "\n",
       "[4887 rows x 15 columns]>"
      ]
     },
     "execution_count": 5,
     "metadata": {},
     "output_type": "execute_result"
    }
   ],
   "source": [
    "#On ne garde que les algues brunes du tableau \n",
    "brunes = data[['Thalassiosira_pseudonana', 'Fragilariopsis_cylindrus', 'Phaeodactylum_tricornutum', 'Nannochloropsis_gaditana','Ectocarpus_siliculosus','Ectocarpus_crouaniorum','Ectocarpus_subulatus','Ectocarpus_fasciculatus','Scytosiphon_lomentaria','Porterinema_fluviatile','Nemacystus_decipiens','Cladosiphon_okamuranus','Laminarionema_elsbetiae','Saccharina_japonica','Undaria_pinnatifida']]\n",
    "brunes.head"
   ]
  },
  {
   "cell_type": "code",
   "execution_count": 4,
   "id": "6e52fb82",
   "metadata": {},
   "outputs": [
    {
     "name": "stdout",
     "output_type": "stream",
     "text": [
      "2189\n"
     ]
    }
   ],
   "source": [
    "#Ne garder que les lignes où il y a au moins quatorze 1 (soit toutes les algues possèdent la réaction sauf une)\n",
    "brunes_np = brunes.to_numpy() #pour manipulier le tableau plus facilement\n",
    "reaction = []\n",
    "for i in range(len(brunes_np)):\n",
    "    count = 0\n",
    "    for j in range(15):\n",
    "        if brunes_np[i,j] == 1:\n",
    "            count = count + 1\n",
    "    if count>= 14:\n",
    "            reaction.append(i)\n",
    "print(len(reaction))"
   ]
  },
  {
   "cell_type": "code",
   "execution_count": 5,
   "id": "c2d1cdd1",
   "metadata": {},
   "outputs": [
    {
     "name": "stdout",
     "output_type": "stream",
     "text": [
      "[0 0 0 0 0 0 0 0 0 0 0 0 0 0 0]\n"
     ]
    }
   ],
   "source": [
    "print(brunes_np[1,:])"
   ]
  },
  {
   "cell_type": "code",
   "execution_count": 6,
   "id": "e1fdf48f",
   "metadata": {},
   "outputs": [
    {
     "name": "stdout",
     "output_type": "stream",
     "text": [
      "[1. 1. 1. 1. 1. 1. 1. 1. 1. 1. 1. 1. 1. 1. 1.]\n",
      "[0. 1. 1. 1. 1. 1. 1. 1. 1. 1. 1. 1. 1. 1. 1.]\n"
     ]
    }
   ],
   "source": [
    "#On crée un nouveau tableau qui ne garde que ces lignes\n",
    "brunes_al = np.zeros((len(reaction),15))\n",
    "for i in range(len(reaction)):\n",
    "    nb = reaction[i]\n",
    "    brunes_al[i,:] = brunes_np[nb,:]\n",
    "print(brunes_al[2039,:])\n",
    "print(brunes_al[2038,:])"
   ]
  },
  {
   "cell_type": "code",
   "execution_count": 7,
   "id": "942b804c",
   "metadata": {},
   "outputs": [
    {
     "name": "stdout",
     "output_type": "stream",
     "text": [
      "121\n",
      "[8, 22, 34, 51, 86, 116, 130, 151, 168, 174, 214, 248, 254, 266, 361, 402, 413, 415, 418, 443, 463, 470, 478, 483, 505, 540, 544, 555, 572, 629, 633, 639, 700, 711, 723, 757, 769, 786, 789, 792, 839, 847, 852, 874, 886, 893, 931, 941, 955, 959, 964, 976, 1029, 1032, 1046, 1054, 1060, 1065, 1090, 1122, 1132, 1134, 1136, 1155, 1181, 1186, 1191, 1193, 1204, 1223, 1236, 1247, 1274, 1278, 1308, 1310, 1315, 1353, 1365, 1371, 1389, 1432, 1459, 1469, 1480, 1493, 1535, 1559, 1585, 1593, 1671, 1679, 1699, 1707, 1731, 1814, 1818, 1832, 1861, 1875, 1883, 1897, 1908, 1915, 1941, 1952, 1987, 1990, 1998, 2001, 2005, 2015, 2026, 2036, 2051, 2072, 2075, 2082, 2115, 2170, 2184]\n",
      "[1. 1. 1. 1. 1. 1. 1. 1. 1. 1. 1. 1. 0. 1. 1.]\n"
     ]
    }
   ],
   "source": [
    "#On repère que Laminarionema_elsbetiae correspond à la 13e colonne, (d'identation [:,12])\n",
    "#On cherche donc pour quelle réaction, c'est elle qui n'a pas la réaction\n",
    "loss = []\n",
    "for i in range(len(brunes_al)):\n",
    "    if brunes_al[i,12] == 0.:\n",
    "        loss.append(i)\n",
    "print(len(loss)) #nombre de réactions perdues au total\n",
    "print(loss)\n",
    "print(brunes_al[8,:])"
   ]
  },
  {
   "cell_type": "code",
   "execution_count": 8,
   "id": "ca327176",
   "metadata": {},
   "outputs": [
    {
     "name": "stdout",
     "output_type": "stream",
     "text": [
      "[15, 31, 50, 70, 122, 161, 182, 210, 235, 244, 291, 340, 348, 367, 485, 538, 552, 556, 561, 593, 626, 636, 645, 650, 683, 733, 738, 754, 779, 856, 864, 872, 955, 974, 989, 1042, 1059, 1080, 1084, 1088, 1151, 1161, 1167, 1197, 1213, 1221, 1278, 1290, 1309, 1314, 1322, 1340, 1411, 1414, 1434, 1447, 1455, 1461, 1493, 1537, 1551, 1553, 1556, 1583, 1617, 1622, 1628, 1630, 1645, 1671, 1685, 1697, 1737, 1741, 1778, 1780, 1786, 1842, 1863, 1869, 1895, 1949, 1993, 2013, 2028, 2045, 2097, 2127, 2158, 2169, 2284, 2297, 2326, 2343, 2374, 2485, 2489, 2507, 2547, 2564, 2581, 2635, 2678, 2719, 2836, 2870, 2974, 2986, 3007, 3020, 3026, 3062, 3101, 3151, 3221, 3282, 3293, 3312, 3376, 3473, 3507]\n"
     ]
    }
   ],
   "source": [
    "#On récupère maintenant le numéro de la réaction initiale perdue\n",
    "reac_loss = []\n",
    "for i in range(len(loss)):\n",
    "    reac_loss.append(reaction[loss[i]])\n",
    "print(reac_loss)"
   ]
  },
  {
   "cell_type": "code",
   "execution_count": 9,
   "id": "615bfa23",
   "metadata": {},
   "outputs": [
    {
     "name": "stdout",
     "output_type": "stream",
     "text": [
      "['MRNA-GUANINE-N7--METHYLTRANSFERASE-RXN', 'RXN-14481', 'RXN-20531', 'RETINOL-DEHYDROGENASE-RXN', 'OROTPDECARB-RXN', 'SPHINGOSINE-N-ACYLTRANSFERASE-RXN', 'DTDPDEHYDRHAMEPIM-RXN', 'RXN0-6491', '3.4.21.26-RXN', 'RXN-17472', 'RXN-11757', 'RXN0-302', 'OROPRIBTRANS-RXN', 'RXN-20407', 'RXN-11136', 'GLUTAMATE-SYNTHASE-FERREDOXIN-RXN', 'RXN-7800', 'RXN-12878', 'RXN-15843', 'ATPPHOSPHORIBOSYLTRANS-RXN', '3-HYDROXYBUTYRYL-COA-DEHYDROGENASE-RXN', 'DTDPDEHYRHAMREDUCT-RXN', 'METHIONINE-GAMMA-LYASE-RXN', 'RXN-9229', 'UROGENDECARBOX-RXN', '2-OCTAPRENYL-6-OHPHENOL-METHY-RXN', 'RXN-9951', 'DIOHBUTANONEPSYN-RXN', 'RXN-14480', 'RXN3O-102', 'RXN0-5063', 'RXN-12581', 'RXN-20404', '2.7.1.134-RXN', 'RXN-20401', 'ORNITHINE-GLU-AMINOTRANSFERASE-RXN', 'RXN-9279', 'ADENPRIBOSYLTRAN-RXN', 'RXN-19915', 'RXN-9287', 'GTP-CYCLOHYDRO-II-RXN', 'RXN-7792', 'RXN-9280', 'CITSYN-RXN', 'DIHYDROOROTATE-DEHYDROGENASE-RXN', 'RXN-17753', 'RXN-14515', 'RXN-9282', 'RXN-7790', 'RXN-9281', 'RXN-20368', '2.8.1.6-RXN', 'RXN-8642', 'THRESYN-RXN', 'CYCLOEUCALENOL-CYCLOISOMERASE-RXN', '2.7.1.133-RXN', '2.7.7.60-RXN', 'SAICARSYN-RXN', 'RXN-14301', 'RXN-16336', 'GLYCEROL-KIN-RXN', 'RXN-20172', 'GMP-SYN-NH3-RXN', 'RXN-17473', 'PHOSCHOL-RXN', 'FRUCTOKINASE-RXN', '2.7.1.139-RXN', '1.3.7.2-RXN', 'AIRS-RXN', '3.5.1.27-RXN', 'GLUTATHIONE-SYN-RXN', 'ISOCITDEH-RXN', '1.5.1.20-RXN', 'RIB5PISOM-RXN', '3.5.1.88-RXN', '1.8.4.14-RXN', 'TRYPTOPHAN--TRNA-LIGASE-RXN', 'RXN-20403', 'RXN-11634', 'RXN-20352', 'RXN0-6554', 'NICOTINATEPRIBOSYLTRANS-RXN', 'RXN-12374', 'RXN-14270', '3.6.3.16-RXN', 'RXN0-2661', 'RXN-13163', 'RXN-20436', 'PHENYLPYRUVATE-TAUTOMERASE-RXN', 'GMP-SYN-GLUT-RXN', 'RXN-1223', 'RXN-10642', 'RXN-20405', 'RXN-5468', 'RXN-8991', 'DHHB-METHYLTRANSFER-RXN', 'RXN-15985', '3-ISOPROPYLMALISOM-RXN', 'ORNITHINE--OXO-ACID-AMINOTRANSFERASE-RXN', 'GART-RXN', '3.2.1.58-RXN', 'RXN-9545', 'RXN-12309', 'RXN-19387', 'ACETYLHOMOSER-CYS-RXN', 'RXN-13779', 'EXOPOLYPHOSPHATASE-RXN', 'RXN-11151', 'PREPHENATE-ASP-TRANSAMINE-RXN', '3-HYDROXYBUTYRATE-DEHYDROGENASE-RXN', 'PREPHENATE-TRANSAMINE-RXN', '2.7.7.14-RXN', 'D-2-HYDROXY-ACID-DEHYDROGENASE-RXN', '3.2.1.14-RXN', 'O-ACETYLHOMOSERINE-THIOL-LYASE-RXN', 'RXN66-27', 'RXN-707', 'RXN-17879', 'RXN66-323', 'NAPHTHOATE-SYN-RXN', 'RXN-4210']\n",
      "121\n"
     ]
    }
   ],
   "source": [
    "#On peut ainsi récupérer leur nom avec la colonne reaction de data \n",
    "loss_name = []\n",
    "for i in range(len(reac_loss)):\n",
    "    loss_name.append(data.loc[reac_loss[i],\"reaction\"])\n",
    "\n",
    "print(loss_name)\n",
    "print(len(loss_name))"
   ]
  },
  {
   "cell_type": "code",
   "execution_count": 10,
   "id": "c29e0bc2",
   "metadata": {},
   "outputs": [
    {
     "name": "stdout",
     "output_type": "stream",
     "text": [
      "Collecting pandas-ods-reader\n",
      "  Downloading pandas_ods_reader-0.1.4-py3-none-any.whl (6.7 kB)\n",
      "Requirement already satisfied: pandas<2.0.0,>=1.0.0 in /home/paulinehg/anaconda3/lib/python3.9/site-packages (from pandas-ods-reader) (1.3.4)\n",
      "Requirement already satisfied: lxml<5.0.0,>=4.6.3 in /home/paulinehg/anaconda3/lib/python3.9/site-packages (from pandas-ods-reader) (4.6.3)\n",
      "Collecting ezodf<0.4.0,>=0.3.2\n",
      "  Downloading ezodf-0.3.2.tar.gz (125 kB)\n",
      "\u001b[K     |████████████████████████████████| 125 kB 2.0 MB/s eta 0:00:01\n",
      "\u001b[?25hRequirement already satisfied: python-dateutil>=2.7.3 in /home/paulinehg/anaconda3/lib/python3.9/site-packages (from pandas<2.0.0,>=1.0.0->pandas-ods-reader) (2.8.2)\n",
      "Requirement already satisfied: pytz>=2017.3 in /home/paulinehg/anaconda3/lib/python3.9/site-packages (from pandas<2.0.0,>=1.0.0->pandas-ods-reader) (2021.3)\n",
      "Requirement already satisfied: numpy>=1.17.3 in /home/paulinehg/anaconda3/lib/python3.9/site-packages (from pandas<2.0.0,>=1.0.0->pandas-ods-reader) (1.20.3)\n",
      "Requirement already satisfied: six>=1.5 in /home/paulinehg/anaconda3/lib/python3.9/site-packages (from python-dateutil>=2.7.3->pandas<2.0.0,>=1.0.0->pandas-ods-reader) (1.16.0)\n",
      "Building wheels for collected packages: ezodf\n",
      "  Building wheel for ezodf (setup.py) ... \u001b[?25ldone\n",
      "\u001b[?25h  Created wheel for ezodf: filename=ezodf-0.3.2-py2.py3-none-any.whl size=49002 sha256=463a3c3414463638a023989bfc30cafc0dcf86cad17c7225dc3f6ce478c18238\n",
      "  Stored in directory: /home/paulinehg/.cache/pip/wheels/d0/0e/c2/1af349f0c9e110ed08133a3d579f402f3ec1c031eac80bc084\n",
      "Successfully built ezodf\n",
      "Installing collected packages: ezodf, pandas-ods-reader\n",
      "Successfully installed ezodf-0.3.2 pandas-ods-reader-0.1.4\n",
      "Note: you may need to restart the kernel to use updated packages.\n"
     ]
    }
   ],
   "source": [
    "pip install pandas-ods-reader  #pour gérer qutre type de tableau "
   ]
  },
  {
   "cell_type": "code",
   "execution_count": 11,
   "id": "12b77f0c",
   "metadata": {
    "scrolled": true
   },
   "outputs": [
    {
     "data": {
      "text/plain": [
       "<bound method NDFrame.head of                Identifiant Metacyc  \\\n",
       "0            PHOSACETYLTRANS-RXN     \n",
       "1                   2.3.1.75-RXN     \n",
       "2                   4.4.1.14-RXN     \n",
       "3                      RXN-11371     \n",
       "4                      RXN-12199     \n",
       "..                             ...   \n",
       "93                    3.2.1.14-RXN   \n",
       "94          3-ISOPROPYLMALISOM-RXN   \n",
       "95                       RXN-20516   \n",
       "96  D-ALANINE-AMINOTRANSFERASE-RXN   \n",
       "97                       RXN-11634   \n",
       "\n",
       "                                         Nom réaction  \\\n",
       "0                       Phosphate acetyltransferase     \n",
       "1                                Wax ester synthase     \n",
       "2        1-aminocyclopropane-1-carboxylate synthase     \n",
       "3     2-(3-amino-3-carboxypropyl)histidine synthase     \n",
       "4          nucleoside triphosphate phosphohydrolase     \n",
       "..                                                ...   \n",
       "93                                               None   \n",
       "94                                               None   \n",
       "95                                               None   \n",
       "96                                               None   \n",
       "97                                               None   \n",
       "\n",
       "                 Voie métabolique  \n",
       "0        Fermentation du pyruvate  \n",
       "1            Biosynthèse de cires  \n",
       "2       Biosynthèse de l'éthylène  \n",
       "3       Biosynthèse du diphtamide  \n",
       "4     Catabolisme des pyrimidines  \n",
       "..                            ...  \n",
       "93                           None  \n",
       "94                           None  \n",
       "95                           None  \n",
       "96                           None  \n",
       "97                           None  \n",
       "\n",
       "[98 rows x 3 columns]>"
      ]
     },
     "execution_count": 11,
     "metadata": {},
     "output_type": "execute_result"
    }
   ],
   "source": [
    "from pandas_ods_reader import read_ods\n",
    "df = read_ods('Lelsb_losses.ods') # Lecture du tableau provenant de l'analyse faite à la main \n",
    "df.head"
   ]
  },
  {
   "cell_type": "code",
   "execution_count": 13,
   "id": "6499dc7f",
   "metadata": {},
   "outputs": [
    {
     "name": "stdout",
     "output_type": "stream",
     "text": [
      "['PHOSACETYLTRANS-RXN  ', '2.3.1.75-RXN  ', '4.4.1.14-RXN  ', 'RXN-11371  ', 'RXN-12199  ', 'GART-RXN  ', 'RXN0-5098  ', 'EXOPOLYPHOSPHATASE-RXN  ', 'RXN0-5101  ', 'GLYCEROL-KIN-RXN  ', 'RXN-18702  ', '1.5.1.20-RXN  ', 'GDP-MANNOSE-6-DEHYDROGENASE-RXN  ', 'RXN-20436  ', 'RXN-4210  ', 'RXN66-323 ', 'RXN-20557  ', 'RXN-20519  ', 'METHYLCROTONYL-COA-CARBOXYLASE-RXN  ', 'RXN-7421  ', 'RXN-17882  ', 'GLYOXYLATE-OXIDASE-RXN  ', 'RXN-5468  ', 'RXN-7667 ', 'GLYCOGENIN-GLUCOSYLTRANSFERASE-RXN  ', 'RXN-8642 ', 'CARDIOLIPSYN-RXN ', 'RXN1G01-65 ', '2KETO-3METHYLVALERATE-RXN ', 'DIOHBUTANONEPSYN-RXN ', '3.2.1.58-RXN ', '2.1.1.79-RXN ', 'RXN1A0-6303 ', 'GTP-CYCLOHYDRO-II-RXN', '1.1.1.188-RXN', 'RXN3DJ-11417', 'GMP-SYN-GLUT-RXN', 'RETINOL-DEHYDROGENASE-RXN', 'TRANS-RXN0-277', 'RXN-13719', 'RXN-8141', 'KETOISOCAPROATE-RXN', '2.1.1.5-RXN', 'RNA-LIGASE-ATP-RXN', 'RXN0-6491', 'DIPHOSPHOMEVALONTE-DECARBOXYLASE-RXN', 'DTDPDEHYRHAMREDUCT-RXN', '2.7.7.14-RXN', 'RXN-17927', 'RXN-13760', 'DTDPDEHYDRHAMEPIM-RXN', 'THIAMIN-TRIPHOSPHATASE-RXN', 'RXN0-6554', 'RXN-9887', 'DGTPTRIPHYDRO-RXN', 'MERCAPYSTRANS-RXN', 'RXNQT-4193', 'RXN3DJ-25', 'RXN-12581', 'RXN-9356', 'RXN1G-2544', 'METHYLVALERATE-RXN', 'MMUM-RXN', '12-OXOPHYTODIENOATE-REDUCTASE-RXN', 'RXN-10038', 'DIHYDROOROTATE-DEHYDROGENASE-RXN', 'RXN-12639', 'AIRS-RXN', '3.4.21.26-RXN', 'RXN-9951', 'DIMETHYLARGININASE-RXN', 'CHORISMATE-SYNTHASE-RXN', 'GLYRIBONUCSYN-RXN', 'RXN-17925', 'MRNA-GUANINE-N7--METHYLTRANSFERASE-RXN', '2.4.2.31-RXN', 'RXN-17926', 'RXN-8991', 'NAPHTHOATE-SYN-RXN', 'RXN-18703', 'ISOCITDEH-RXN', 'RXN-17879', '3.2.1.96-RXN', 'ADCLY-RXN', 'RXN-17525', '1.1.1.272-RXN', 'TRYPTOPHAN--TRNA-LIGASE-RXN', 'R-2-METHYLMALATE-DEHYDRATASE-RXN', 'RXN-17753', 'GMP-SYN-NH3-RXN', '2.7.7.15-RXN', '2.3.1.23-RXN', '1.2.1.25-RXN', '3.2.1.14-RXN', '3-ISOPROPYLMALISOM-RXN', 'RXN-20516', 'D-ALANINE-AMINOTRANSFERASE-RXN', 'RXN-11634']\n"
     ]
    }
   ],
   "source": [
    "f_name = [] #récupération des noms des réactions \n",
    "for i in range(98):\n",
    "    f_name.append(df.loc[i,\"Identifiant Metacyc\"])\n",
    "print(f_name)"
   ]
  },
  {
   "cell_type": "code",
   "execution_count": 14,
   "id": "17d2bc5f",
   "metadata": {},
   "outputs": [
    {
     "name": "stdout",
     "output_type": "stream",
     "text": [
      "MRNA-GUANINE-N7--METHYLTRANSFERASE-RXN est aussi dans la première liste\n",
      "RETINOL-DEHYDROGENASE-RXN est aussi dans la première liste\n",
      "DTDPDEHYDRHAMEPIM-RXN est aussi dans la première liste\n",
      "RXN0-6491 est aussi dans la première liste\n",
      "3.4.21.26-RXN est aussi dans la première liste\n",
      "DTDPDEHYRHAMREDUCT-RXN est aussi dans la première liste\n",
      "RXN-9951 est aussi dans la première liste\n",
      "RXN-12581 est aussi dans la première liste\n",
      "GTP-CYCLOHYDRO-II-RXN est aussi dans la première liste\n",
      "DIHYDROOROTATE-DEHYDROGENASE-RXN est aussi dans la première liste\n",
      "RXN-17753 est aussi dans la première liste\n",
      "GMP-SYN-NH3-RXN est aussi dans la première liste\n",
      "AIRS-RXN est aussi dans la première liste\n",
      "ISOCITDEH-RXN est aussi dans la première liste\n",
      "TRYPTOPHAN--TRNA-LIGASE-RXN est aussi dans la première liste\n",
      "RXN-11634 est aussi dans la première liste\n",
      "RXN0-6554 est aussi dans la première liste\n",
      "GMP-SYN-GLUT-RXN est aussi dans la première liste\n",
      "RXN-8991 est aussi dans la première liste\n",
      "3-ISOPROPYLMALISOM-RXN est aussi dans la première liste\n",
      "2.7.7.14-RXN est aussi dans la première liste\n",
      "3.2.1.14-RXN est aussi dans la première liste\n",
      "RXN-17879 est aussi dans la première liste\n",
      "NAPHTHOATE-SYN-RXN est aussi dans la première liste\n",
      "24 réactions sont dans les deux listes\n"
     ]
    }
   ],
   "source": [
    "nb = 0\n",
    "for i in loss_name: # comparaison des deux listes \n",
    "    if i in f_name:\n",
    "        print(i, 'est aussi dans la première liste')\n",
    "        nb = nb + 1\n",
    "print(nb, 'réactions sont dans les deux listes')"
   ]
  },
  {
   "cell_type": "markdown",
   "id": "2937afda",
   "metadata": {},
   "source": [
    "## Identifier les pertes de gènes chez les autres algues brunes."
   ]
  },
  {
   "cell_type": "markdown",
   "id": "b76ee94b",
   "metadata": {},
   "source": [
    "On reprend le tableau qui commend les réactions qui sont présentes chez toutes les algues brunes, sauf une : `brunes_al`."
   ]
  },
  {
   "cell_type": "markdown",
   "id": "3816c8ba",
   "metadata": {},
   "source": [
    "Pour *Thalassiosira_pseudonana* d'identation [:,0]."
   ]
  },
  {
   "cell_type": "code",
   "execution_count": 15,
   "id": "5264aa6a",
   "metadata": {},
   "outputs": [
    {
     "name": "stdout",
     "output_type": "stream",
     "text": [
      "64\n",
      "[184, 186, 189, 231, 297, 328, 400, 409, 450, 521, 568, 612, 631, 686, 726, 727, 741, 744, 745, 748, 780, 793, 795, 828, 840, 853, 896, 944, 1031, 1053, 1076, 1168, 1261, 1329, 1355, 1416, 1594, 1680, 1710, 1766, 1783, 1828, 1834, 1835, 1900, 1905, 1909, 1913, 1951, 1955, 1969, 1979, 1980, 1986, 2009, 2010, 2013, 2027, 2029, 2038, 2046, 2064, 2068, 2144]\n",
      "[0. 1. 1. 1. 1. 1. 1. 1. 1. 1. 1. 1. 1. 1. 1.]\n"
     ]
    }
   ],
   "source": [
    "#On cherche donc pour quelle réaction, c'est elle qui n'a pas la réaction\n",
    "loss_Tp = []\n",
    "for i in range(len(brunes_al)):\n",
    "    if brunes_al[i,0] == 0.:\n",
    "        loss_Tp.append(i)\n",
    "print(len(loss_Tp))\n",
    "print(loss_Tp)\n",
    "print(brunes_al[184,:])"
   ]
  },
  {
   "cell_type": "markdown",
   "id": "4bfe8353",
   "metadata": {},
   "source": [
    "Pour *Fragilariopsis_cylindrus* d'identation [:,1]."
   ]
  },
  {
   "cell_type": "code",
   "execution_count": 16,
   "id": "0565d3b4",
   "metadata": {},
   "outputs": [
    {
     "name": "stdout",
     "output_type": "stream",
     "text": [
      "22\n",
      "[13, 47, 312, 399, 416, 448, 456, 461, 677, 820, 1063, 1161, 1309, 1411, 1672, 1901, 1946, 1950, 1962, 2019, 2175, 2188]\n",
      "[1. 0. 1. 1. 1. 1. 1. 1. 1. 1. 1. 1. 1. 1. 1.]\n"
     ]
    }
   ],
   "source": [
    "#On cherche donc pour quelle réaction, c'est elle qui n'a pas la réaction\n",
    "loss_Fc = []\n",
    "for i in range(len(brunes_al)):\n",
    "    if brunes_al[i,1] == 0.:\n",
    "        loss_Fc.append(i)\n",
    "print(len(loss_Fc))\n",
    "print(loss_Fc)\n",
    "print(brunes_al[13,:])"
   ]
  },
  {
   "cell_type": "markdown",
   "id": "53a398a2",
   "metadata": {},
   "source": [
    "Pour *Phaeodactylum_tricornutum*, d'identation `[:,2]`."
   ]
  },
  {
   "cell_type": "code",
   "execution_count": 17,
   "id": "9f4bae4a",
   "metadata": {},
   "outputs": [
    {
     "name": "stdout",
     "output_type": "stream",
     "text": [
      "25\n",
      "[53, 183, 213, 467, 524, 622, 738, 926, 993, 1035, 1069, 1070, 1146, 1262, 1645, 1693, 1896, 1994, 2012, 2016, 2042, 2062, 2124, 2126, 2145]\n",
      "[1. 1. 0. 1. 1. 1. 1. 1. 1. 1. 1. 1. 1. 1. 1.]\n"
     ]
    }
   ],
   "source": [
    "#On cherche donc pour quelle réaction, c'est elle qui n'a pas la réaction\n",
    "loss_Pt = []\n",
    "for i in range(len(brunes_al)):\n",
    "    if brunes_al[i,2] == 0.:\n",
    "        loss_Pt.append(i)\n",
    "print(len(loss_Pt))\n",
    "print(loss_Pt)\n",
    "print(brunes_al[53,:])"
   ]
  },
  {
   "cell_type": "markdown",
   "id": "95373f1c",
   "metadata": {},
   "source": [
    "Pour *Nannochloropsis_gaditana*, d'identation `[:,3]`."
   ]
  },
  {
   "cell_type": "code",
   "execution_count": 18,
   "id": "1bd1f034",
   "metadata": {},
   "outputs": [
    {
     "name": "stdout",
     "output_type": "stream",
     "text": [
      "100\n",
      "[42, 77, 150, 156, 197, 230, 262, 270, 287, 293, 327, 329, 339, 364, 369, 433, 445, 466, 514, 557, 614, 662, 690, 747, 752, 798, 800, 816, 825, 913, 918, 925, 967, 1128, 1140, 1149, 1152, 1182, 1187, 1214, 1217, 1226, 1241, 1242, 1271, 1280, 1294, 1317, 1330, 1361, 1363, 1397, 1398, 1478, 1488, 1514, 1606, 1650, 1666, 1724, 1727, 1741, 1756, 1770, 1793, 1803, 1806, 1885, 1899, 1912, 1922, 1923, 1931, 1934, 1936, 1938, 1940, 1945, 1948, 1961, 1968, 1972, 1976, 1983, 1988, 2006, 2028, 2030, 2052, 2054, 2065, 2069, 2073, 2081, 2105, 2122, 2132, 2140, 2152, 2163]\n",
      "[1. 1. 1. 0. 1. 1. 1. 1. 1. 1. 1. 1. 1. 1. 1.]\n"
     ]
    }
   ],
   "source": [
    "#On cherche donc pour quelle réaction, c'est elle qui n'a pas la réaction\n",
    "loss_Ng = []\n",
    "for i in range(len(brunes_al)):\n",
    "    if brunes_al[i,3] == 0.:\n",
    "        loss_Ng.append(i)\n",
    "print(len(loss_Ng))\n",
    "print(loss_Ng)\n",
    "print(brunes_al[42,:])"
   ]
  },
  {
   "cell_type": "markdown",
   "id": "a27f0465",
   "metadata": {},
   "source": [
    "Pour *Ectocarpus_siliculosus*, d'identation `[:,4]`."
   ]
  },
  {
   "cell_type": "code",
   "execution_count": 19,
   "id": "84092c8f",
   "metadata": {},
   "outputs": [
    {
     "name": "stdout",
     "output_type": "stream",
     "text": [
      "3\n",
      "[1333, 1422, 1801]\n",
      "[1. 1. 1. 1. 0. 1. 1. 1. 1. 1. 1. 1. 1. 1. 1.]\n"
     ]
    }
   ],
   "source": [
    "#On cherche donc pour quelle réaction, c'est elle qui n'a pas la réaction\n",
    "loss_Esi = []\n",
    "for i in range(len(brunes_al)):\n",
    "    if brunes_al[i,4] == 0.:\n",
    "        loss_Esi.append(i)\n",
    "print(len(loss_Esi))\n",
    "print(loss_Esi)\n",
    "print(brunes_al[1333,:])"
   ]
  },
  {
   "cell_type": "markdown",
   "id": "d8899d4b",
   "metadata": {},
   "source": [
    "Pour *Ectocarpus_crouaniorum*, d'identation `[:,5]`."
   ]
  },
  {
   "cell_type": "code",
   "execution_count": 20,
   "id": "133de4c4",
   "metadata": {},
   "outputs": [
    {
     "name": "stdout",
     "output_type": "stream",
     "text": [
      "8\n",
      "[40, 932, 1049, 1064, 1382, 1460, 1616, 1821]\n",
      "[1. 1. 1. 1. 1. 0. 1. 1. 1. 1. 1. 1. 1. 1. 1.]\n"
     ]
    }
   ],
   "source": [
    "#On cherche donc pour quelle réaction, c'est elle qui n'a pas la réaction\n",
    "loss_Ec = []\n",
    "for i in range(len(brunes_al)):\n",
    "    if brunes_al[i,5] == 0.:\n",
    "        loss_Ec.append(i)\n",
    "print(len(loss_Ec))\n",
    "print(loss_Ec)\n",
    "print(brunes_al[40,:])"
   ]
  },
  {
   "cell_type": "markdown",
   "id": "d3d6208b",
   "metadata": {},
   "source": [
    "Pour *Ectocarpus_subulatus*, d'identation `[:,6]`."
   ]
  },
  {
   "cell_type": "code",
   "execution_count": 21,
   "id": "b403aee0",
   "metadata": {},
   "outputs": [
    {
     "name": "stdout",
     "output_type": "stream",
     "text": [
      "21\n",
      "[274, 291, 311, 523, 556, 604, 624, 628, 644, 718, 761, 1028, 1107, 1301, 1465, 1475, 1498, 1537, 1714, 1734, 2180]\n",
      "[1. 1. 1. 1. 1. 1. 0. 1. 1. 1. 1. 1. 1. 1. 1.]\n"
     ]
    }
   ],
   "source": [
    "#On cherche donc pour quelle réaction, c'est elle qui n'a pas la réaction\n",
    "loss_Esu = []\n",
    "for i in range(len(brunes_al)):\n",
    "    if brunes_al[i,6] == 0.:\n",
    "        loss_Esu.append(i)\n",
    "print(len(loss_Esu))\n",
    "print(loss_Esu)\n",
    "print(brunes_al[274,:])"
   ]
  },
  {
   "cell_type": "markdown",
   "id": "72ba97cc",
   "metadata": {},
   "source": [
    "Pour *Ectocarpus_fasciculatus*, d'identation `[:,7]`."
   ]
  },
  {
   "cell_type": "code",
   "execution_count": 22,
   "id": "2c1d189c",
   "metadata": {},
   "outputs": [
    {
     "name": "stdout",
     "output_type": "stream",
     "text": [
      "5\n",
      "[1039, 1148, 1632, 1949, 1975]\n",
      "[1. 1. 1. 1. 1. 1. 1. 0. 1. 1. 1. 1. 1. 1. 1.]\n"
     ]
    }
   ],
   "source": [
    "#On cherche donc pour quelle réaction, c'est elle qui n'a pas la réaction\n",
    "loss_Ef = []\n",
    "for i in range(len(brunes_al)):\n",
    "    if brunes_al[i,7] == 0.:\n",
    "        loss_Ef.append(i)\n",
    "print(len(loss_Ef))\n",
    "print(loss_Ef)\n",
    "print(brunes_al[1039,:])"
   ]
  },
  {
   "cell_type": "markdown",
   "id": "9fc135f9",
   "metadata": {},
   "source": [
    "Pour *Scytosiphon_lomentaria*, d'identation `[:,8]`. "
   ]
  },
  {
   "cell_type": "code",
   "execution_count": 23,
   "id": "ddc315ae",
   "metadata": {},
   "outputs": [
    {
     "name": "stdout",
     "output_type": "stream",
     "text": [
      "1\n",
      "[1579]\n",
      "[1. 1. 1. 1. 1. 1. 1. 1. 0. 1. 1. 1. 1. 1. 1.]\n"
     ]
    }
   ],
   "source": [
    "#On cherche donc pour quelle réaction, c'est elle qui n'a pas la réaction\n",
    "loss_Sl = []\n",
    "for i in range(len(brunes_al)):\n",
    "    if brunes_al[i,8] == 0.:\n",
    "        loss_Sl.append(i)\n",
    "print(len(loss_Sl))\n",
    "print(loss_Sl)\n",
    "print(brunes_al[1579,:])"
   ]
  },
  {
   "cell_type": "markdown",
   "id": "baeff3c7",
   "metadata": {},
   "source": [
    "Pour *Porterinema_fluviatile*, d'identation `[:,9]`."
   ]
  },
  {
   "cell_type": "code",
   "execution_count": 24,
   "id": "c0d6165b",
   "metadata": {},
   "outputs": [
    {
     "name": "stdout",
     "output_type": "stream",
     "text": [
      "0\n",
      "[]\n"
     ]
    }
   ],
   "source": [
    "#On cherche donc pour quelle réaction, c'est elle qui n'a pas la réaction\n",
    "loss_Pf = []\n",
    "for i in range(len(brunes_al)):\n",
    "    if brunes_al[i,9] == 0.:\n",
    "        loss_Pf.append(i)\n",
    "print(len(loss_Pf))\n",
    "print(loss_Pf)"
   ]
  },
  {
   "cell_type": "markdown",
   "id": "028eb6d9",
   "metadata": {},
   "source": [
    "Pour *Nemacystus_decipiens*, d'identation `[:,10]`. "
   ]
  },
  {
   "cell_type": "code",
   "execution_count": 25,
   "id": "d5a4cb58",
   "metadata": {},
   "outputs": [
    {
     "name": "stdout",
     "output_type": "stream",
     "text": [
      "20\n",
      "[68, 131, 310, 455, 778, 915, 968, 1001, 1034, 1401, 1467, 1495, 1561, 1849, 1862, 1864, 2107, 2113, 2162, 2164]\n",
      "[1. 1. 1. 1. 1. 1. 1. 1. 1. 1. 0. 1. 1. 1. 1.]\n"
     ]
    }
   ],
   "source": [
    "#On cherche donc pour quelle réaction, c'est elle qui n'a pas la réaction\n",
    "loss_Nd = []\n",
    "for i in range(len(brunes_al)):\n",
    "    if brunes_al[i,10] == 0.:\n",
    "        loss_Nd.append(i)\n",
    "print(len(loss_Nd))\n",
    "print(loss_Nd)\n",
    "print(brunes_al[68,:])"
   ]
  },
  {
   "cell_type": "markdown",
   "id": "a1b90dd8",
   "metadata": {},
   "source": [
    "Pour *Cladosiphon_okamuranus*, d'identation `[:,11]`."
   ]
  },
  {
   "cell_type": "code",
   "execution_count": 26,
   "id": "2d25643d",
   "metadata": {},
   "outputs": [
    {
     "name": "stdout",
     "output_type": "stream",
     "text": [
      "18\n",
      "[99, 106, 181, 255, 268, 276, 733, 1088, 1144, 1339, 1384, 1623, 1655, 1668, 1686, 1757, 2114, 2116]\n",
      "[1. 1. 1. 1. 1. 1. 1. 1. 1. 1. 1. 0. 1. 1. 1.]\n"
     ]
    }
   ],
   "source": [
    "#On cherche donc pour quelle réaction, c'est elle qui n'a pas la réaction\n",
    "loss_Co = []\n",
    "for i in range(len(brunes_al)):\n",
    "    if brunes_al[i,11] == 0.:\n",
    "        loss_Co.append(i)\n",
    "print(len(loss_Co))\n",
    "print(loss_Co)\n",
    "print(brunes_al[99,:])"
   ]
  },
  {
   "cell_type": "markdown",
   "id": "39eee895",
   "metadata": {},
   "source": [
    "Pour *Saccharina_japonica*, d'identation `[:,13]`."
   ]
  },
  {
   "cell_type": "code",
   "execution_count": 27,
   "id": "b52d1dc1",
   "metadata": {},
   "outputs": [
    {
     "name": "stdout",
     "output_type": "stream",
     "text": [
      "8\n",
      "[447, 895, 1072, 1091, 1349, 1426, 1886, 2123]\n",
      "[1. 1. 1. 1. 1. 1. 1. 1. 1. 1. 1. 1. 1. 0. 1.]\n"
     ]
    }
   ],
   "source": [
    "#On cherche donc pour quelle réaction, c'est elle qui n'a pas la réaction\n",
    "loss_Sj = []\n",
    "for i in range(len(brunes_al)):\n",
    "    if brunes_al[i,13] == 0.:\n",
    "        loss_Sj.append(i)\n",
    "print(len(loss_Sj))\n",
    "print(loss_Sj)\n",
    "print(brunes_al[447,:])"
   ]
  },
  {
   "cell_type": "markdown",
   "id": "b2ccb15d",
   "metadata": {},
   "source": [
    "Pour *Undaria_pinnatifida*, d'identation `[:,14]`."
   ]
  },
  {
   "cell_type": "code",
   "execution_count": 28,
   "id": "7c0145f6",
   "metadata": {
    "scrolled": true
   },
   "outputs": [
    {
     "name": "stdout",
     "output_type": "stream",
     "text": [
      "6\n",
      "[191, 551, 775, 803, 1137, 1210]\n",
      "[1. 1. 1. 1. 1. 1. 1. 1. 1. 1. 1. 1. 1. 1. 0.]\n"
     ]
    }
   ],
   "source": [
    "#On cherche donc pour quelle réaction, c'est elle qui n'a pas la réaction\n",
    "loss_Up = []\n",
    "for i in range(len(brunes_al)):\n",
    "    if brunes_al[i,14] == 0.:\n",
    "        loss_Up.append(i)\n",
    "print(len(loss_Up))\n",
    "print(loss_Up)\n",
    "print(brunes_al[191,:])"
   ]
  },
  {
   "cell_type": "markdown",
   "id": "86749490",
   "metadata": {},
   "source": [
    "## Retrouver le nom des gènes chez les autres algues brunes qui on été perdus par Laminarionema"
   ]
  },
  {
   "cell_type": "code",
   "execution_count": 32,
   "id": "fe517d60",
   "metadata": {},
   "outputs": [
    {
     "data": {
      "text/plain": [
       "<bound method NDFrame.head of            Thalassiosira_pseudonana_genes_assoc (sep=;)  \\\n",
       "0                                        THAPSDRAFT_693   \n",
       "1                                                   NaN   \n",
       "2                                       THAPSDRAFT_5510   \n",
       "3     THAPS_263147;THAPSDRAFT_31673;THAPSDRAFT_26469...   \n",
       "4     THAPSDRAFT_24832;THAPSDRAFT_261310;THAPSDRAFT_...   \n",
       "...                                                 ...   \n",
       "4882                                                NaN   \n",
       "4883                                                NaN   \n",
       "4884                                                NaN   \n",
       "4885                                                NaN   \n",
       "4886                                                NaN   \n",
       "\n",
       "           Fragilariopsis_cylindrus_genes_assoc (sep=;)  \\\n",
       "0                   FRACYDRAFT_207237;FRACYDRAFT_228154   \n",
       "1                                                   NaN   \n",
       "2     FRACYDRAFT_291658;FRACYDRAFT_261203;FRACYDRAFT...   \n",
       "3     FRACYDRAFT_270353;FRACYDRAFT_172421;FRACYDRAFT...   \n",
       "4     FRACYDRAFT_178142;FRACYDRAFT_274241;FRACYDRAFT...   \n",
       "...                                                 ...   \n",
       "4882                                                NaN   \n",
       "4883                                                NaN   \n",
       "4884                                                NaN   \n",
       "4885                                                NaN   \n",
       "4886                                                NaN   \n",
       "\n",
       "          Phaeodactylum_tricornutum_genes_assoc (sep=;)  \\\n",
       "0                     PHATRDRAFT_28056;PHATRDRAFT_23399   \n",
       "1                                                   NaN   \n",
       "2                     PHATRDRAFT_46110;PHATRDRAFT_46109   \n",
       "3     PHATRDRAFT_12459;PHATRDRAFT_18029;PHATRDRAFT_2...   \n",
       "4     PHATR_10438;PHATRDRAFT_43187;PHATRDRAFT_54051;...   \n",
       "...                                                 ...   \n",
       "4882                                                NaN   \n",
       "4883                                                NaN   \n",
       "4884                                                NaN   \n",
       "4885                                                NaN   \n",
       "4886                                                NaN   \n",
       "\n",
       "           Nannochloropsis_gaditana_genes_assoc (sep=;)  \\\n",
       "0           Naga_100793g2;Naga_100122g16;Naga_100011g54   \n",
       "1                                                   NaN   \n",
       "2                                         Naga_100467g1   \n",
       "3     Naga_100052g24;Naga_100004g150;Naga_100014g80;...   \n",
       "4                           Naga_100097g5;Naga_100200g6   \n",
       "...                                                 ...   \n",
       "4882                                                NaN   \n",
       "4883                                                NaN   \n",
       "4884                                                NaN   \n",
       "4885                                                NaN   \n",
       "4886                                                NaN   \n",
       "\n",
       "             Ectocarpus_siliculosus_genes_assoc (sep=;)  \\\n",
       "0               E_siliculosus_18369;E_siliculosus_05028   \n",
       "1                                                   NaN   \n",
       "2                                                   NaN   \n",
       "3     E_siliculosus_02045;E_siliculosus_04743;E_sili...   \n",
       "4     E_siliculosus_12389;E_siliculosus_12786;E_sili...   \n",
       "...                                                 ...   \n",
       "4882                                                NaN   \n",
       "4883                                                NaN   \n",
       "4884                                                NaN   \n",
       "4885                                                NaN   \n",
       "4886                                                NaN   \n",
       "\n",
       "             Ectocarpus_crouaniorum_genes_assoc (sep=;)  \\\n",
       "0                                    Ecrouaniorum_11632   \n",
       "1                                                   NaN   \n",
       "2                                                   NaN   \n",
       "3     Ecrouaniorum_10412;Ecrouaniorum_05040;Ecrouani...   \n",
       "4     Ecrouaniorum_04453;Ecrouaniorum_10905;Ecrouani...   \n",
       "...                                                 ...   \n",
       "4882                                                NaN   \n",
       "4883                                                NaN   \n",
       "4884                                                NaN   \n",
       "4885                                                NaN   \n",
       "4886                                                NaN   \n",
       "\n",
       "               Ectocarpus_subulatus_genes_assoc (sep=;)  \\\n",
       "0                EsuBft560_20;EsuBft2055_6;EsuBft1346_3   \n",
       "1                                                   NaN   \n",
       "2                                                   NaN   \n",
       "3     EsuBft400_5;EsuBft172_11;EsuBft333_6;EsuBft207...   \n",
       "4     EsuBft1929_4;EsuBft1202_4;EsuBft544_3;EsuBft19...   \n",
       "...                                                 ...   \n",
       "4882                                                NaN   \n",
       "4883                                                NaN   \n",
       "4884                                                NaN   \n",
       "4885                                                NaN   \n",
       "4886                                                NaN   \n",
       "\n",
       "            Ectocarpus_fasciculatus_genes_assoc (sep=;)  \\\n",
       "0               Efasciculatus_06631;Efasciculatus_06632   \n",
       "1                                                   NaN   \n",
       "2                                   Efasciculatus_12665   \n",
       "3     Efasciculatus_06908;Efasciculatus_08677;Efasci...   \n",
       "4     Efasciculatus_08771;Efasciculatus_11504;Efasci...   \n",
       "...                                                 ...   \n",
       "4882                                                NaN   \n",
       "4883                                                NaN   \n",
       "4884                                                NaN   \n",
       "4885                                                NaN   \n",
       "4886                                                NaN   \n",
       "\n",
       "             Scytosiphon_lomentaria_genes_assoc (sep=;)  \\\n",
       "0                   Slomentaria_04876;Slomentaria_02436   \n",
       "1                                                   NaN   \n",
       "2                                                   NaN   \n",
       "3     Slomentaria_16624;Slomentaria_03035;Slomentari...   \n",
       "4     Slomentaria_05653;Slomentaria_05200;Slomentari...   \n",
       "...                                                 ...   \n",
       "4882                                                NaN   \n",
       "4883                                                NaN   \n",
       "4884                                                NaN   \n",
       "4885                                                NaN   \n",
       "4886                                                NaN   \n",
       "\n",
       "             Porterinema_fluviatile_genes_assoc (sep=;)  \\\n",
       "0     Pfluviatile_11458;Pfluviatile_06768;Pfluviatil...   \n",
       "1                                                   NaN   \n",
       "2                                     Pfluviatile_11932   \n",
       "3     Pfluviatile_00125;Pfluviatile_03924;Pfluviatil...   \n",
       "4     Pfluviatile_10896;Pfluviatile_07407;Pfluviatil...   \n",
       "...                                                 ...   \n",
       "4882                                                NaN   \n",
       "4883                                                NaN   \n",
       "4884                                                NaN   \n",
       "4885                                                NaN   \n",
       "4886                                                NaN   \n",
       "\n",
       "     Nemacystus_decipiens_genes_assoc (sep=;)  \\\n",
       "0       g11650;g8673;g11649;g11648;g9081;g396   \n",
       "1                                         NaN   \n",
       "2                                         NaN   \n",
       "3              g7092;g1907;g8499;g5852;g12747   \n",
       "4                    g7900;g8968;g8269;g10482   \n",
       "...                                       ...   \n",
       "4882                                      NaN   \n",
       "4883                                      NaN   \n",
       "4884                                      NaN   \n",
       "4885                                      NaN   \n",
       "4886                                      NaN   \n",
       "\n",
       "             Cladosiphon_okamuranus_genes_assoc (sep=;)  \\\n",
       "0                 C_okamuranus_01897;C_okamuranus_09390   \n",
       "1                                                   NaN   \n",
       "2                                                   NaN   \n",
       "3     C_okamuranus_12011;C_okamuranus_02329;C_okamur...   \n",
       "4     C_okamuranus_01055;C_okamuranus_02149;C_okamur...   \n",
       "...                                                 ...   \n",
       "4882                                                NaN   \n",
       "4883                                                NaN   \n",
       "4884                                                NaN   \n",
       "4885                                                NaN   \n",
       "4886                                                NaN   \n",
       "\n",
       "            Laminarionema_elsbetiae_genes_assoc (sep=;)  \\\n",
       "0     Lelsbetiae_13340;Lelsbetiae_13339;Lelsbetiae_0...   \n",
       "1                                                   NaN   \n",
       "2                                      Lelsbetiae_10291   \n",
       "3     Lelsbetiae_06529;Lelsbetiae_07896;Lelsbetiae_1...   \n",
       "4     Lelsbetiae_16385;Lelsbetiae_00041;Lelsbetiae_0...   \n",
       "...                                                 ...   \n",
       "4882                                                NaN   \n",
       "4883                                                NaN   \n",
       "4884                                                NaN   \n",
       "4885                                                NaN   \n",
       "4886                                                NaN   \n",
       "\n",
       "              Saccharina_japonica_genes_assoc (sep=;)  \\\n",
       "0                                     SJ03226;SJ10794   \n",
       "1                                                 NaN   \n",
       "2                                             SJ11160   \n",
       "3     SJ11692;SJ19949;SJ03663;SJ04393;SJ06657;SJ07132   \n",
       "4     SJ05238;SJ05680;SJ19120;SJ05681;SJ08209;SJ22546   \n",
       "...                                               ...   \n",
       "4882                                              NaN   \n",
       "4883                                              NaN   \n",
       "4884                                              NaN   \n",
       "4885                                              NaN   \n",
       "4886                                              NaN   \n",
       "\n",
       "                Undaria_pinnatifida_genes_assoc (sep=;)  \n",
       "0             Undaria_23788;Undaria_18132;Undaria_26839  \n",
       "1                                                   NaN  \n",
       "2                           Undaria_08151;Undaria_08153  \n",
       "3     Undaria_02107;Undaria_07142;Undaria_34983;Unda...  \n",
       "4                           Undaria_15807;Undaria_06821  \n",
       "...                                                 ...  \n",
       "4882                                                NaN  \n",
       "4883                                                NaN  \n",
       "4884                                                NaN  \n",
       "4885                                                NaN  \n",
       "4886                                                NaN  \n",
       "\n",
       "[4887 rows x 15 columns]>"
      ]
     },
     "execution_count": 32,
     "metadata": {},
     "output_type": "execute_result"
    }
   ],
   "source": [
    "#On reprend le tableau reactions et on récupère seulement les colonnes avec le nom des gènes\n",
    "brunes_reac = data[['Thalassiosira_pseudonana_genes_assoc (sep=;)', 'Fragilariopsis_cylindrus_genes_assoc (sep=;)', 'Phaeodactylum_tricornutum_genes_assoc (sep=;)', 'Nannochloropsis_gaditana_genes_assoc (sep=;)','Ectocarpus_siliculosus_genes_assoc (sep=;)','Ectocarpus_crouaniorum_genes_assoc (sep=;)','Ectocarpus_subulatus_genes_assoc (sep=;)','Ectocarpus_fasciculatus_genes_assoc (sep=;)','Scytosiphon_lomentaria_genes_assoc (sep=;)','Porterinema_fluviatile_genes_assoc (sep=;)','Nemacystus_decipiens_genes_assoc (sep=;)','Cladosiphon_okamuranus_genes_assoc (sep=;)','Laminarionema_elsbetiae_genes_assoc (sep=;)','Saccharina_japonica_genes_assoc (sep=;)','Undaria_pinnatifida_genes_assoc (sep=;)']]\n",
    "brunes_reac.head"
   ]
  },
  {
   "cell_type": "code",
   "execution_count": 36,
   "id": "106f05cf",
   "metadata": {},
   "outputs": [
    {
     "name": "stdout",
     "output_type": "stream",
     "text": [
      "['MRNA-GUANINE-N7--METHYLTRANSFERASE-RXN', 'RETINOL-DEHYDROGENASE-RXN', 'DTDPDEHYDRHAMEPIM-RXN', 'RXN0-6491', '3.4.21.26-RXN', 'DTDPDEHYRHAMREDUCT-RXN', 'RXN-9951', 'RXN-12581', 'GTP-CYCLOHYDRO-II-RXN', 'DIHYDROOROTATE-DEHYDROGENASE-RXN', 'RXN-17753', 'GMP-SYN-NH3-RXN', 'AIRS-RXN', 'ISOCITDEH-RXN', 'TRYPTOPHAN--TRNA-LIGASE-RXN', 'RXN-11634', 'RXN0-6554', 'GMP-SYN-GLUT-RXN', 'RXN-8991', '3-ISOPROPYLMALISOM-RXN', '2.7.7.14-RXN', '3.2.1.14-RXN', 'RXN-17879', 'NAPHTHOATE-SYN-RXN']\n",
      "0                     HOMOCYSMET-RXN\n",
      "1                           RXN-1827\n",
      "2                          RXN-19009\n",
      "3                          RXN0-1141\n",
      "4                          RXN-19141\n",
      "                    ...             \n",
      "4882                    2.6.1.50-RXN\n",
      "4883                        RXN-8581\n",
      "4884          UDP-NACMUR-ALA-LIG-RXN\n",
      "4885                        RXN-9909\n",
      "4886    BENZYL-ALC-DEHYDROGENASE-RXN\n",
      "Name: reaction, Length: 4887, dtype: object\n"
     ]
    }
   ],
   "source": [
    "# Ensuite, on récupère l'indice des 24 réactions perdues \n",
    "loss24 = []\n",
    "for i in loss_name:\n",
    "    if i in f_name:\n",
    "        loss24.append(i)\n",
    "print(loss24)\n",
    "reaction = data.loc[:,\"reaction\"]\n",
    "print(reaction)\n",
    "\n",
    "loss24_nb = []\n",
    "for i in loss24:\n",
    "    for j in range(len(reaction)):\n",
    "        if reaction[j] == i:\n",
    "            loss24_nb.append(j)\n",
    "        "
   ]
  },
  {
   "cell_type": "code",
   "execution_count": 37,
   "id": "395c66f5",
   "metadata": {},
   "outputs": [
    {
     "name": "stdout",
     "output_type": "stream",
     "text": [
      "[15, 70, 182, 210, 235, 636, 738, 872, 1151, 1213, 1221, 1556, 1645, 1697, 1786, 1863, 1895, 2169, 2374, 2507, 3062, 3151, 3312, 3473]\n",
      "MRNA-GUANINE-N7--METHYLTRANSFERASE-RXN\n"
     ]
    }
   ],
   "source": [
    "print(loss24_nb)\n",
    "print(reaction[15])"
   ]
  },
  {
   "cell_type": "markdown",
   "id": "bc784c98",
   "metadata": {},
   "source": [
    "Maintenant, on regarde pour chaque algue brune (autre que *Laminarionema*) à quel gène correspond chaque réaction."
   ]
  },
  {
   "cell_type": "markdown",
   "id": "36012e01",
   "metadata": {},
   "source": [
    "Pour *Thalassiosira_pseudonana*."
   ]
  },
  {
   "cell_type": "code",
   "execution_count": 38,
   "id": "03573b74",
   "metadata": {},
   "outputs": [
    {
     "name": "stdout",
     "output_type": "stream",
     "text": [
      "MRNA-GUANINE-N7--METHYLTRANSFERASE-RXN : THAPS_10979\n",
      "RETINOL-DEHYDROGENASE-RXN : THAPSDRAFT_17956\n",
      "DTDPDEHYDRHAMEPIM-RXN : THAPSDRAFT_40788\n",
      "RXN0-6491 : THAPSDRAFT_264316;THAPSDRAFT_262575\n",
      "3.4.21.26-RXN : THAPSDRAFT_7546\n",
      "DTDPDEHYRHAMREDUCT-RXN : THAPSDRAFT_8901;THAPSDRAFT_4064;THAPSDRAFT_40788;THAPSDRAFT_4068\n",
      "RXN-9951 : THAPSDRAFT_21640;THAPSDRAFT_1456\n",
      "RXN-12581 : THAPSDRAFT_17956\n",
      "GTP-CYCLOHYDRO-II-RXN : THAPSDRAFT_33619;THAPSDRAFT_268695;THAPSDRAFT_28100\n",
      "DIHYDROOROTATE-DEHYDROGENASE-RXN : THAPSDRAFT_264316;THAPSDRAFT_262575\n",
      "RXN-17753 : nan\n",
      "GMP-SYN-NH3-RXN : THAPSDRAFT_40223\n",
      "AIRS-RXN : THAPSDRAFT_20580\n",
      "ISOCITDEH-RXN : THAPSDRAFT_21640;THAPSDRAFT_1456\n",
      "TRYPTOPHAN--TRNA-LIGASE-RXN : THAPSDRAFT_3461;THAPSDRAFT_43160\n",
      "RXN-11634 : THAPSDRAFT_28300\n",
      "RXN0-6554 : THAPSDRAFT_264316;THAPSDRAFT_262575\n",
      "GMP-SYN-GLUT-RXN : THAPSDRAFT_40223\n",
      "RXN-8991 : THAPSDRAFT_42704\n",
      "3-ISOPROPYLMALISOM-RXN : THAPSDRAFT_42704\n",
      "2.7.7.14-RXN : THAPSDRAFT_42946;THAPSDRAFT_20823;THAPSDRAFT_35017\n",
      "3.2.1.14-RXN : THAPSDRAFT_23700;THAPSDRAFT_262645;THAPSDRAFT_262517;THAPSDRAFT_261660;THAPS_263097;THAPSDRAFT_11963;THAPSDRAFT_270127;THAPSDRAFT_264582;THAPS_263297;THAPS_6636;THAPSDRAFT_261895;THAPSDRAFT_264903;THAPSDRAFT_262153;THAPSDRAFT_264902;THAPSDRAFT_24204;THAPS_263096;THAPSDRAFT_268966;THAPSDRAFT_2647;THAPSDRAFT_263782;THAPSDRAFT_262247;THAPSDRAFT_264577;THAPSDRAFT_268366;THAPSDRAFT_262025;THAPSDRAFT_264602;THAPSDRAFT_263859;THAPSDRAFT_bd911;THAPS_263184;THAPSDRAFT_264576;THAPSDRAFT_264601;THAPSDRAFT_263622\n",
      "RXN-17879 : THAPSDRAFT_3895\n",
      "NAPHTHOATE-SYN-RXN : THAPSDRAFT_7643\n"
     ]
    }
   ],
   "source": [
    "for i in loss24_nb:\n",
    "    print(reaction[i], ':', brunes_reac.loc[i,'Thalassiosira_pseudonana_genes_assoc (sep=;)'])"
   ]
  },
  {
   "cell_type": "code",
   "execution_count": 39,
   "id": "c2ab8931",
   "metadata": {},
   "outputs": [
    {
     "name": "stdout",
     "output_type": "stream",
     "text": [
      "nan\n",
      "1\n"
     ]
    }
   ],
   "source": [
    "#1221\n",
    "print(brunes_reac.loc[1221,'Thalassiosira_pseudonana_genes_assoc (sep=;)'])\n",
    "print(brunes.loc[1221,'Thalassiosira_pseudonana'])"
   ]
  },
  {
   "cell_type": "markdown",
   "id": "d9700171",
   "metadata": {},
   "source": [
    "Pour *Fragilariopsis_cylindrus*."
   ]
  },
  {
   "cell_type": "code",
   "execution_count": 40,
   "id": "446d25d2",
   "metadata": {},
   "outputs": [
    {
     "name": "stdout",
     "output_type": "stream",
     "text": [
      "MRNA-GUANINE-N7--METHYLTRANSFERASE-RXN : FRACYDRAFT_186017\n",
      "RETINOL-DEHYDROGENASE-RXN : FRACYDRAFT_144249\n",
      "DTDPDEHYDRHAMEPIM-RXN : FRACYDRAFT_191008\n",
      "RXN0-6491 : FRACYDRAFT_182199;FRACYDRAFT_159735\n",
      "3.4.21.26-RXN : FRACYDRAFT_206739;FRACYDRAFT_244058;FRACYDRAFT_174438\n",
      "DTDPDEHYRHAMREDUCT-RXN : FRACYDRAFT_191008;FRACYDRAFT_160971\n",
      "RXN-9951 : FRACYDRAFT_277597;FRACYDRAFT_168262\n",
      "RXN-12581 : FRACYDRAFT_144249\n",
      "GTP-CYCLOHYDRO-II-RXN : FRACYDRAFT_172456;FRACYDRAFT_207039\n",
      "DIHYDROOROTATE-DEHYDROGENASE-RXN : FRACYDRAFT_182199;FRACYDRAFT_159735\n",
      "RXN-17753 : nan\n",
      "GMP-SYN-NH3-RXN : FRACYDRAFT_275358\n",
      "AIRS-RXN : FRACYDRAFT_257579;FRACYDRAFT_209097\n",
      "ISOCITDEH-RXN : FRACYDRAFT_168262;FRACYDRAFT_277597\n",
      "TRYPTOPHAN--TRNA-LIGASE-RXN : FRACYDRAFT_268525;FRACYDRAFT_192001\n",
      "RXN-11634 : FRACYDRAFT_188724\n",
      "RXN0-6554 : FRACYDRAFT_182199;FRACYDRAFT_159735\n",
      "GMP-SYN-GLUT-RXN : FRACYDRAFT_275358\n",
      "RXN-8991 : FRACYDRAFT_223273\n",
      "3-ISOPROPYLMALISOM-RXN : FRACYDRAFT_223273\n",
      "2.7.7.14-RXN : FRACYDRAFT_205852;FRACYDRAFT_190693\n",
      "3.2.1.14-RXN : FRACYDRAFT_241386;FRACYDRAFT_250060;FRACYDRAFT_237671;FRACYDRAFT_196689;FRACYDRAFT_191881;FRACYDRAFT_233738;FRACYDRAFT_247543;FRACYDRAFT_238419;FRACYDRAFT_232796\n",
      "RXN-17879 : FRACYDRAFT_193868\n",
      "NAPHTHOATE-SYN-RXN : FRACYDRAFT_224685\n",
      "nan\n"
     ]
    }
   ],
   "source": [
    "for i in loss24_nb:\n",
    "    print(reaction[i], ':',brunes_reac.loc[i,'Fragilariopsis_cylindrus_genes_assoc (sep=;)'])\n",
    "print(brunes_reac.loc[1221,'Fragilariopsis_cylindrus_genes_assoc (sep=;)'])"
   ]
  },
  {
   "cell_type": "markdown",
   "id": "2a93ccb0",
   "metadata": {},
   "source": [
    "Pour *Phaeodactylum_tricornutum*."
   ]
  },
  {
   "cell_type": "code",
   "execution_count": 41,
   "id": "17bb914e",
   "metadata": {},
   "outputs": [
    {
     "name": "stdout",
     "output_type": "stream",
     "text": [
      "MRNA-GUANINE-N7--METHYLTRANSFERASE-RXN : PHATRDRAFT_43071\n",
      "RETINOL-DEHYDROGENASE-RXN : PHATRDRAFT_15297\n",
      "DTDPDEHYDRHAMEPIM-RXN : PHATRDRAFT_23281\n",
      "RXN0-6491 : PHATRDRAFT_48112;PHATRDRAFT_48900\n",
      "3.4.21.26-RXN : PHATRDRAFT_46548\n",
      "DTDPDEHYRHAMREDUCT-RXN : PHATRDRAFT_23281\n",
      "RXN-9951 : PHATRDRAFT_45017;PHATRDRAFT_14762\n",
      "RXN-12581 : PHATRDRAFT_15297\n",
      "GTP-CYCLOHYDRO-II-RXN : PHATRDRAFT_6454;PHATRDRAFT_42619;PHATRDRAFT_10882\n",
      "DIHYDROOROTATE-DEHYDROGENASE-RXN : PHATRDRAFT_48112;PHATRDRAFT_48900\n",
      "RXN-17753 : nan\n",
      "GMP-SYN-NH3-RXN : PHATRDRAFT_27735\n",
      "AIRS-RXN : PHATRDRAFT_47067\n",
      "ISOCITDEH-RXN : PHATRDRAFT_45017;PHATRDRAFT_14762\n",
      "TRYPTOPHAN--TRNA-LIGASE-RXN : PHATRDRAFT_40901;PHATRDRAFT_15595\n",
      "RXN-11634 : PHATRDRAFT_19122\n",
      "RXN0-6554 : PHATRDRAFT_48112;PHATRDRAFT_48900\n",
      "GMP-SYN-GLUT-RXN : PHATRDRAFT_27735\n",
      "RXN-8991 : PHATRDRAFT_24772\n",
      "3-ISOPROPYLMALISOM-RXN : PHATRDRAFT_24772\n",
      "2.7.7.14-RXN : PHATRDRAFT_44584;PHATRDRAFT_40163\n",
      "3.2.1.14-RXN : PHATRDRAFT_44884;PHATRDRAFT_50155\n",
      "RXN-17879 : PHATRDRAFT_50507;PHATR_10391\n",
      "NAPHTHOATE-SYN-RXN : PHATRDRAFT_bd371\n"
     ]
    }
   ],
   "source": [
    "for i in loss24_nb:\n",
    "    print(reaction[i], ':',brunes_reac.loc[i,'Phaeodactylum_tricornutum_genes_assoc (sep=;)'])"
   ]
  },
  {
   "cell_type": "markdown",
   "id": "089e21b7",
   "metadata": {},
   "source": [
    "Pour *Nannochloropsis_gaditana*."
   ]
  },
  {
   "cell_type": "code",
   "execution_count": 42,
   "id": "8d09f142",
   "metadata": {},
   "outputs": [
    {
     "name": "stdout",
     "output_type": "stream",
     "text": [
      "Naga_100004g74;Naga_100001g88\n",
      "Naga_100159g6;Naga_100008g96\n",
      "Naga_100199g4\n",
      "Naga_100144g11\n",
      "Naga_100093g9\n",
      "Naga_100012g46;Naga_100199g4;Naga_100014g19\n",
      "Naga_100022g53\n",
      "Naga_100159g6;Naga_100008g96\n",
      "Naga_100071g6;Naga_100158g13;Naga_100250g5\n",
      "Naga_100144g11\n",
      "nan\n",
      "Naga_101462g1\n",
      "Naga_100004g33;Naga_100190g12;Naga_100169g16;Naga_100001g134\n",
      "Naga_100022g53\n",
      "Naga_100083g10;Naga_100041g13\n",
      "Naga_100002g149\n",
      "Naga_100144g11\n",
      "Naga_101462g1\n",
      "Naga_100877g4;Naga_100048g8\n",
      "Naga_100877g4;Naga_100048g8\n",
      "Naga_100049g31;Naga_100004g40\n",
      "Naga_100210g10\n",
      "Naga_100337g5\n",
      "Naga_100074g14\n"
     ]
    }
   ],
   "source": [
    "for i in loss24_nb:\n",
    "    print(brunes_reac.loc[i,'Nannochloropsis_gaditana_genes_assoc (sep=;)'])"
   ]
  },
  {
   "cell_type": "code",
   "execution_count": 43,
   "id": "61b03060",
   "metadata": {},
   "outputs": [
    {
     "name": "stdout",
     "output_type": "stream",
     "text": [
      "15 : Tp = THAPS_10979 \n",
      " Fc = FRACYDRAFT_186017 \n",
      " Pt = PHATRDRAFT_43071 \n",
      " Ng = Naga_100004g74;Naga_100001g88 \n",
      " Esi = E_siliculosus_16569 \n",
      " Ec = Ecrouaniorum_06620 \n",
      " Esu = EsuBft80_27 \n",
      " Ef = Efasciculatus_06433 \n",
      " Sl = Slomentaria_17517 \n",
      " Pf = Pfluviatile_06283 \n",
      " Nd = g16087 \n",
      " Co = C_okamuranus_15110;C_okamuranus_03802 \n",
      " Sj = SJ04718 \n",
      " Up = Undaria_15095;Undaria_34133;Undaria_10655;Undaria_37066\n",
      "70 : Tp = THAPSDRAFT_17956 \n",
      " Fc = FRACYDRAFT_144249 \n",
      " Pt = PHATRDRAFT_15297 \n",
      " Ng = Naga_100159g6;Naga_100008g96 \n",
      " Esi = E_siliculosus_05605;E_siliculosus_05410;E_siliculosus_05793;E_siliculosus_14176 \n",
      " Ec = Ecrouaniorum_06211;Ecrouaniorum_09597;Ecrouaniorum_17064 \n",
      " Esu = EsuBft1405_8;EsuBft655_5;EsuBft1287_4;EsuBft153_6 \n",
      " Ef = Efasciculatus_01775;Efasciculatus_05943;Efasciculatus_03358;Efasciculatus_03360 \n",
      " Sl = Slomentaria_16704;Slomentaria_02147;Slomentaria_02146;Slomentaria_01984;Slomentaria_16705 \n",
      " Pf = Pfluviatile_02577;Pfluviatile_13362 \n",
      " Nd = g4869;g9047;g4870;g9046;g10715 \n",
      " Co = C_okamuranus_06874;C_okamuranus_04624;C_okamuranus_01346;C_okamuranus_09582;C_okamuranus_04625 \n",
      " Sj = SJ19151;SJ05275;SJ21312;SJ05274;SJ05277;SJ02723;SJ05276;SJ10028;SJ20291;SJ21322;SJ12574 \n",
      " Up = Undaria_05916;Undaria_13848;Undaria_08441\n",
      "182 : Tp = THAPSDRAFT_40788 \n",
      " Fc = FRACYDRAFT_191008 \n",
      " Pt = PHATRDRAFT_23281 \n",
      " Ng = Naga_100199g4 \n",
      " Esi = E_siliculosus_04508 \n",
      " Ec = Ecrouaniorum_13471 \n",
      " Esu = EsuBft1218_11 \n",
      " Ef = Efasciculatus_11795 \n",
      " Sl = Slomentaria_10557 \n",
      " Pf = Pfluviatile_03345 \n",
      " Nd = g14806 \n",
      " Co = C_okamuranus_03010 \n",
      " Sj = SJ22556 \n",
      " Up = Undaria_01018\n",
      "210 : Tp = THAPSDRAFT_264316;THAPSDRAFT_262575 \n",
      " Fc = FRACYDRAFT_182199;FRACYDRAFT_159735 \n",
      " Pt = PHATRDRAFT_48112;PHATRDRAFT_48900 \n",
      " Ng = Naga_100144g11 \n",
      " Esi = E_siliculosus_17911 \n",
      " Ec = Ecrouaniorum_01523 \n",
      " Esu = EsuBft1707_5;EsuBft1707_6 \n",
      " Ef = Efasciculatus_11635 \n",
      " Sl = Slomentaria_08170 \n",
      " Pf = Pfluviatile_10110 \n",
      " Nd = g1309;g11739 \n",
      " Co = C_okamuranus_04068 \n",
      " Sj = SJ18134 \n",
      " Up = Undaria_32910;Undaria_35187;Undaria_23316;Undaria_34461;Undaria_02888;Undaria_09621;Undaria_13445\n",
      "235 : Tp = THAPSDRAFT_7546 \n",
      " Fc = FRACYDRAFT_206739;FRACYDRAFT_244058;FRACYDRAFT_174438 \n",
      " Pt = PHATRDRAFT_46548 \n",
      " Ng = Naga_100093g9 \n",
      " Esi = E_siliculosus_12930;E_siliculosus_10751 \n",
      " Ec = Ecrouaniorum_15284 \n",
      " Esu = EsuBft1004_2 \n",
      " Ef = Efasciculatus_07767 \n",
      " Sl = Slomentaria_13530 \n",
      " Pf = Pfluviatile_06889 \n",
      " Nd = g6370 \n",
      " Co = C_okamuranus_13515 \n",
      " Sj = SJ06771 \n",
      " Up = Undaria_00081\n",
      "636 : Tp = THAPSDRAFT_8901;THAPSDRAFT_4064;THAPSDRAFT_40788;THAPSDRAFT_4068 \n",
      " Fc = FRACYDRAFT_191008;FRACYDRAFT_160971 \n",
      " Pt = PHATRDRAFT_23281 \n",
      " Ng = Naga_100012g46;Naga_100199g4;Naga_100014g19 \n",
      " Esi = E_siliculosus_04508 \n",
      " Ec = Ecrouaniorum_13471 \n",
      " Esu = EsuBft1218_11 \n",
      " Ef = Efasciculatus_11795 \n",
      " Sl = Slomentaria_10557 \n",
      " Pf = Pfluviatile_03345 \n",
      " Nd = g14806 \n",
      " Co = C_okamuranus_03010 \n",
      " Sj = SJ22556 \n",
      " Up = Undaria_08902;Undaria_01018;Undaria_23895;Undaria_10261\n",
      "738 : Tp = THAPSDRAFT_21640;THAPSDRAFT_1456 \n",
      " Fc = FRACYDRAFT_277597;FRACYDRAFT_168262 \n",
      " Pt = PHATRDRAFT_45017;PHATRDRAFT_14762 \n",
      " Ng = Naga_100022g53 \n",
      " Esi = E_siliculosus_08932 \n",
      " Ec = Ecrouaniorum_03258 \n",
      " Esu = EsuBft315_6 \n",
      " Ef = Efasciculatus_17586 \n",
      " Sl = Slomentaria_06939 \n",
      " Pf = Pfluviatile_03789 \n",
      " Nd = g13117;g671 \n",
      " Co = C_okamuranus_00203 \n",
      " Sj = SJ08749 \n",
      " Up = Undaria_22868;Undaria_16725;Undaria_01052\n",
      "872 : Tp = THAPSDRAFT_17956 \n",
      " Fc = FRACYDRAFT_144249 \n",
      " Pt = PHATRDRAFT_15297 \n",
      " Ng = Naga_100159g6;Naga_100008g96 \n",
      " Esi = E_siliculosus_05605;E_siliculosus_05410;E_siliculosus_05793;E_siliculosus_14176 \n",
      " Ec = Ecrouaniorum_06211;Ecrouaniorum_09597;Ecrouaniorum_17064 \n",
      " Esu = EsuBft1405_8;EsuBft655_5;EsuBft1287_4;EsuBft153_6 \n",
      " Ef = Efasciculatus_01775;Efasciculatus_05943;Efasciculatus_03358;Efasciculatus_03360 \n",
      " Sl = Slomentaria_02147;Slomentaria_02146;Slomentaria_16705;Slomentaria_01984;Slomentaria_16704 \n",
      " Pf = Pfluviatile_02577;Pfluviatile_13362 \n",
      " Nd = g4869;g9047;g4870;g9046;g10715 \n",
      " Co = C_okamuranus_06874;C_okamuranus_04624;C_okamuranus_01346;C_okamuranus_09582;C_okamuranus_04625 \n",
      " Sj = SJ19151;SJ05275;SJ05274;SJ21312;SJ05277;SJ02723;SJ20291;SJ10028;SJ05276;SJ21322;SJ12574 \n",
      " Up = Undaria_05916;Undaria_13848;Undaria_08441\n",
      "1151 : Tp = THAPSDRAFT_33619;THAPSDRAFT_268695;THAPSDRAFT_28100 \n",
      " Fc = FRACYDRAFT_172456;FRACYDRAFT_207039 \n",
      " Pt = PHATRDRAFT_6454;PHATRDRAFT_42619;PHATRDRAFT_10882 \n",
      " Ng = Naga_100071g6;Naga_100158g13;Naga_100250g5 \n",
      " Esi = E_siliculosus_02975;E_siliculosus_15019;E_siliculosus_17748 \n",
      " Ec = Ecrouaniorum_05846;Ecrouaniorum_14864;Ecrouaniorum_01379 \n",
      " Esu = EsuBft148_8;EsuBft48_22;EsuBft148_9;EsuBft148_10;EsuBft48_21 \n",
      " Ef = Efasciculatus_05775;Efasciculatus_03191;Efasciculatus_07251 \n",
      " Sl = Slomentaria_15161;Slomentaria_08019;Slomentaria_05530 \n",
      " Pf = Pfluviatile_01988;Pfluviatile_07553;Pfluviatile_13398;Pfluviatile_08107 \n",
      " Nd = g1960;g8206;g244;g1453 \n",
      " Co = C_okamuranus_14488;C_okamuranus_12430;C_okamuranus_13062 \n",
      " Sj = SJ05001;SJ17329 \n",
      " Up = Undaria_24302;Undaria_03855;Undaria_02890;Undaria_14174\n",
      "1213 : Tp = THAPSDRAFT_264316;THAPSDRAFT_262575 \n",
      " Fc = FRACYDRAFT_182199;FRACYDRAFT_159735 \n",
      " Pt = PHATRDRAFT_48112;PHATRDRAFT_48900 \n",
      " Ng = Naga_100144g11 \n",
      " Esi = E_siliculosus_17911 \n",
      " Ec = Ecrouaniorum_01523 \n",
      " Esu = EsuBft1707_5;EsuBft1707_6 \n",
      " Ef = Efasciculatus_11635 \n",
      " Sl = Slomentaria_08170 \n",
      " Pf = Pfluviatile_10110 \n",
      " Nd = g1309;g11739 \n",
      " Co = C_okamuranus_04068 \n",
      " Sj = SJ18134 \n",
      " Up = Undaria_32910;Undaria_35187;Undaria_23316;Undaria_34461;Undaria_02888;Undaria_09621;Undaria_13445\n",
      "1221 : Tp = nan \n",
      " Fc = nan \n",
      " Pt = nan \n",
      " Ng = nan \n",
      " Esi = nan \n",
      " Ec = nan \n",
      " Esu = nan \n",
      " Ef = nan \n",
      " Sl = nan \n",
      " Pf = nan \n",
      " Nd = nan \n",
      " Co = nan \n",
      " Sj = nan \n",
      " Up = nan\n",
      "1556 : Tp = THAPSDRAFT_40223 \n",
      " Fc = FRACYDRAFT_275358 \n",
      " Pt = PHATRDRAFT_27735 \n",
      " Ng = Naga_101462g1 \n",
      " Esi = E_siliculosus_10419 \n",
      " Ec = Ecrouaniorum_04649 \n",
      " Esu = EsuBft2172_2;EsuBft4853_2;EsuBft1783_6;EsuBft1783_5;EsuBft1783_3;EsuBft2172_4;EsuBft2172_3;EsuBft1783_4;EsuBft1783_2 \n",
      " Ef = Efasciculatus_16872 \n",
      " Sl = Slomentaria_00366 \n",
      " Pf = Pfluviatile_12062 \n",
      " Nd = g10224;g696 \n",
      " Co = C_okamuranus_15143 \n",
      " Sj = SJ22386;SJ08788 \n",
      " Up = Undaria_25686;Undaria_04076;Undaria_33268;Undaria_35651;Undaria_36393;Undaria_29608;Undaria_10291\n",
      "1645 : Tp = THAPSDRAFT_20580 \n",
      " Fc = FRACYDRAFT_257579;FRACYDRAFT_209097 \n",
      " Pt = PHATRDRAFT_47067 \n",
      " Ng = Naga_100004g33;Naga_100190g12;Naga_100169g16;Naga_100001g134 \n",
      " Esi = E_siliculosus_09790 \n",
      " Ec = Ecrouaniorum_00575 \n",
      " Esu = EsuBft35_25 \n",
      " Ef = Efasciculatus_00282 \n",
      " Sl = Slomentaria_03532 \n",
      " Pf = Pfluviatile_05531 \n",
      " Nd = g1060;g6241 \n",
      " Co = C_okamuranus_03207 \n",
      " Sj = SJ06408;SJ09236 \n",
      " Up = Undaria_00071;Undaria_26155;Undaria_13173\n",
      "1697 : Tp = THAPSDRAFT_21640;THAPSDRAFT_1456 \n",
      " Fc = FRACYDRAFT_168262;FRACYDRAFT_277597 \n",
      " Pt = PHATRDRAFT_45017;PHATRDRAFT_14762 \n",
      " Ng = Naga_100022g53 \n",
      " Esi = E_siliculosus_08932 \n",
      " Ec = Ecrouaniorum_03258 \n",
      " Esu = EsuBft315_6 \n",
      " Ef = Efasciculatus_17586 \n",
      " Sl = Slomentaria_06939 \n",
      " Pf = Pfluviatile_03789 \n",
      " Nd = g13117;g671 \n",
      " Co = C_okamuranus_00203 \n",
      " Sj = SJ08749 \n",
      " Up = Undaria_22868;Undaria_16725;Undaria_01052\n",
      "1786 : Tp = THAPSDRAFT_3461;THAPSDRAFT_43160 \n",
      " Fc = FRACYDRAFT_268525;FRACYDRAFT_192001 \n",
      " Pt = PHATRDRAFT_40901;PHATRDRAFT_15595 \n",
      " Ng = Naga_100083g10;Naga_100041g13 \n",
      " Esi = E_siliculosus_07422;E_siliculosus_12513 \n",
      " Ec = Ecrouaniorum_04217;Ecrouaniorum_01796 \n",
      " Esu = EsuBft433_6;EsuBft248_13;EsuBft433_7 \n",
      " Ef = Efasciculatus_08443;Efasciculatus_05399 \n",
      " Sl = Slomentaria_04497;Slomentaria_13193 \n",
      " Pf = Pfluviatile_07370;Pfluviatile_09636;Pfluviatile_09637 \n",
      " Nd = g5100;g8927 \n",
      " Co = C_okamuranus_07569;C_okamuranus_03395 \n",
      " Sj = SJ21092;SJ20749;SJ02283 \n",
      " Up = Undaria_16619;Undaria_06741;Undaria_11281;Undaria_14734;Undaria_32684;Undaria_11282;Undaria_01446\n",
      "1863 : Tp = THAPSDRAFT_28300 \n",
      " Fc = FRACYDRAFT_188724 \n",
      " Pt = PHATRDRAFT_19122 \n",
      " Ng = Naga_100002g149 \n",
      " Esi = E_siliculosus_12404 \n",
      " Ec = Ecrouaniorum_04130 \n",
      " Esu = EsuBft327_13 \n",
      " Ef = Efasciculatus_15185 \n",
      " Sl = Slomentaria_04415 \n",
      " Pf = Pfluviatile_07283 \n",
      " Nd = g13297 \n",
      " Co = C_okamuranus_15047 \n",
      " Sj = SJ04205 \n",
      " Up = Undaria_35178;Undaria_04976\n",
      "1895 : Tp = THAPSDRAFT_264316;THAPSDRAFT_262575 \n",
      " Fc = FRACYDRAFT_182199;FRACYDRAFT_159735 \n",
      " Pt = PHATRDRAFT_48112;PHATRDRAFT_48900 \n",
      " Ng = Naga_100144g11 \n",
      " Esi = E_siliculosus_17911 \n",
      " Ec = Ecrouaniorum_01523 \n",
      " Esu = EsuBft1707_5;EsuBft1707_6 \n",
      " Ef = Efasciculatus_11635 \n",
      " Sl = Slomentaria_08170 \n",
      " Pf = Pfluviatile_10110 \n",
      " Nd = g1309;g11739 \n",
      " Co = C_okamuranus_04068 \n",
      " Sj = SJ18134 \n",
      " Up = Undaria_35187;Undaria_34461;Undaria_02888;Undaria_09621;Undaria_13445\n",
      "2169 : Tp = THAPSDRAFT_40223 \n",
      " Fc = FRACYDRAFT_275358 \n",
      " Pt = PHATRDRAFT_27735 \n",
      " Ng = Naga_101462g1 \n",
      " Esi = E_siliculosus_10419 \n",
      " Ec = Ecrouaniorum_04649 \n",
      " Esu = EsuBft2172_2;EsuBft4853_2;EsuBft1783_6;EsuBft1783_5;EsuBft1783_3;EsuBft2172_4;EsuBft2172_3;EsuBft1783_4;EsuBft1783_2 \n",
      " Ef = Efasciculatus_16872 \n",
      " Sl = Slomentaria_00366 \n",
      " Pf = Pfluviatile_12062 \n",
      " Nd = g10224;g696 \n",
      " Co = C_okamuranus_15143 \n",
      " Sj = SJ22386;SJ08788 \n",
      " Up = Undaria_25686;Undaria_04076;Undaria_33268;Undaria_35651;Undaria_36393;Undaria_29608;Undaria_10291\n",
      "2374 : Tp = THAPSDRAFT_42704 \n",
      " Fc = FRACYDRAFT_223273 \n",
      " Pt = PHATRDRAFT_24772 \n",
      " Ng = Naga_100877g4;Naga_100048g8 \n",
      " Esi = E_siliculosus_10344;E_siliculosus_10345;E_siliculosus_09264;E_siliculosus_18443 \n",
      " Ec = Ecrouaniorum_04593;Ecrouaniorum_00106 \n",
      " Esu = EsuBft399_11;EsuBft399_7;EsuBft1403_7;EsuBft399_5;EsuBft634_2;EsuBft634_3;EsuBft399_12 \n",
      " Ef = Efasciculatus_13357;Efasciculatus_12151 \n",
      " Sl = Slomentaria_00325;Slomentaria_03970 \n",
      " Pf = Pfluviatile_15163;Pfluviatile_05390 \n",
      " Nd = g11697;g307;g14328;g308;g15223;g2806 \n",
      " Co = C_okamuranus_14978;C_okamuranus_14798;C_okamuranus_12584 \n",
      " Sj = SJ22396;SJ09771 \n",
      " Up = Undaria_23243;Undaria_08206\n",
      "2507 : Tp = THAPSDRAFT_42704 \n",
      " Fc = FRACYDRAFT_223273 \n",
      " Pt = PHATRDRAFT_24772 \n",
      " Ng = Naga_100877g4;Naga_100048g8 \n",
      " Esi = E_siliculosus_10344;E_siliculosus_09264;E_siliculosus_18443;E_siliculosus_10345 \n",
      " Ec = Ecrouaniorum_04593;Ecrouaniorum_00106 \n",
      " Esu = EsuBft399_11;EsuBft399_7;EsuBft1403_7;EsuBft399_5;EsuBft634_2;EsuBft634_3;EsuBft399_12 \n",
      " Ef = Efasciculatus_13357;Efasciculatus_12151 \n",
      " Sl = Slomentaria_00325;Slomentaria_03970 \n",
      " Pf = Pfluviatile_15163;Pfluviatile_05390 \n",
      " Nd = g11697;g307;g14328;g308;g15223;g2806 \n",
      " Co = C_okamuranus_14978;C_okamuranus_12584;C_okamuranus_14798 \n",
      " Sj = SJ22396;SJ09771 \n",
      " Up = Undaria_23243;Undaria_08206\n",
      "3062 : Tp = THAPSDRAFT_42946;THAPSDRAFT_20823;THAPSDRAFT_35017 \n",
      " Fc = FRACYDRAFT_205852;FRACYDRAFT_190693 \n",
      " Pt = PHATRDRAFT_44584;PHATRDRAFT_40163 \n",
      " Ng = Naga_100049g31;Naga_100004g40 \n",
      " Esi = E_siliculosus_11497;E_siliculosus_06521 \n",
      " Ec = Ecrouaniorum_09273;Ecrouaniorum_07818 \n",
      " Esu = EsuBft458_17;EsuBft485_9 \n",
      " Ef = Efasciculatus_05519;Efasciculatus_01545 \n",
      " Sl = Slomentaria_07405;Slomentaria_11662 \n",
      " Pf = Pfluviatile_05088;Pfluviatile_03006;Pfluviatile_08386 \n",
      " Nd = g5722;g2025 \n",
      " Co = C_okamuranus_10631;C_okamuranus_13841 \n",
      " Sj = SJ19268;SJ20770 \n",
      " Up = Undaria_15365;Undaria_23187;Undaria_34026;Undaria_02444;Undaria_04414;Undaria_32249;Undaria_34716\n",
      "3151 : Tp = THAPSDRAFT_23700;THAPSDRAFT_262645;THAPSDRAFT_262517;THAPSDRAFT_261660;THAPS_263097;THAPSDRAFT_11963;THAPSDRAFT_270127;THAPSDRAFT_264582;THAPS_263297;THAPS_6636;THAPSDRAFT_261895;THAPSDRAFT_264903;THAPSDRAFT_262153;THAPSDRAFT_264902;THAPSDRAFT_24204;THAPS_263096;THAPSDRAFT_268966;THAPSDRAFT_2647;THAPSDRAFT_263782;THAPSDRAFT_262247;THAPSDRAFT_264577;THAPSDRAFT_268366;THAPSDRAFT_262025;THAPSDRAFT_264602;THAPSDRAFT_263859;THAPSDRAFT_bd911;THAPS_263184;THAPSDRAFT_264576;THAPSDRAFT_264601;THAPSDRAFT_263622 \n",
      " Fc = FRACYDRAFT_241386;FRACYDRAFT_250060;FRACYDRAFT_237671;FRACYDRAFT_196689;FRACYDRAFT_191881;FRACYDRAFT_233738;FRACYDRAFT_247543;FRACYDRAFT_238419;FRACYDRAFT_232796 \n",
      " Pt = PHATRDRAFT_44884;PHATRDRAFT_50155 \n",
      " Ng = Naga_100210g10 \n",
      " Esi = E_siliculosus_04916 \n",
      " Ec = Ecrouaniorum_14014 \n",
      " Esu = EsuBft117_11 \n",
      " Ef = Efasciculatus_12440 \n",
      " Sl = Slomentaria_17138 \n",
      " Pf = Pfluviatile_15000 \n",
      " Nd = g5709 \n",
      " Co = C_okamuranus_02217 \n",
      " Sj = SJ19451 \n",
      " Up = Undaria_37116;Undaria_04520;Undaria_14578;Undaria_32956;Undaria_29014\n",
      "3312 : Tp = THAPSDRAFT_3895 \n",
      " Fc = FRACYDRAFT_193868 \n",
      " Pt = PHATRDRAFT_50507;PHATR_10391 \n",
      " Ng = Naga_100337g5 \n",
      " Esi = E_siliculosus_01114 \n",
      " Ec = Ecrouaniorum_05801 \n",
      " Esu = EsuBft2381_4 \n",
      " Ef = Efasciculatus_03145 \n",
      " Sl = Slomentaria_05486 \n",
      " Pf = Pfluviatile_07654 \n",
      " Nd = g8230 \n",
      " Co = C_okamuranus_12456 \n",
      " Sj = SJ11610 \n",
      " Up = Undaria_07121;Undaria_01789\n",
      "3473 : Tp = THAPSDRAFT_7643 \n",
      " Fc = FRACYDRAFT_224685 \n",
      " Pt = PHATRDRAFT_bd371 \n",
      " Ng = Naga_100074g14 \n",
      " Esi = E_siliculosus_16237 \n",
      " Ec = Ecrouaniorum_11538 \n",
      " Esu = EsuBft161_6 \n",
      " Ef = Efasciculatus_11678 \n",
      " Sl = Slomentaria_18525 \n",
      " Pf = Pfluviatile_06647 \n",
      " Nd = g10282 \n",
      " Co = C_okamuranus_13488 \n",
      " Sj = SJ04418 \n",
      " Up = Undaria_12684;Undaria_01086\n"
     ]
    }
   ],
   "source": [
    "for i in loss24_nb:\n",
    "    print(i, ':',\n",
    "         'Tp', '=', brunes_reac.loc[i,'Thalassiosira_pseudonana_genes_assoc (sep=;)'], '\\n',\n",
    "         'Fc', '=',brunes_reac.loc[i,'Fragilariopsis_cylindrus_genes_assoc (sep=;)'],'\\n',\n",
    "         'Pt', '=',brunes_reac.loc[i,'Phaeodactylum_tricornutum_genes_assoc (sep=;)'],'\\n',\n",
    "         'Ng', '=',brunes_reac.loc[i,'Nannochloropsis_gaditana_genes_assoc (sep=;)'],'\\n',\n",
    "         'Esi', '=',brunes_reac.loc[i,'Ectocarpus_siliculosus_genes_assoc (sep=;)'],'\\n',\n",
    "         'Ec', '=',brunes_reac.loc[i,'Ectocarpus_crouaniorum_genes_assoc (sep=;)'],'\\n',\n",
    "         'Esu', '=',brunes_reac.loc[i,'Ectocarpus_subulatus_genes_assoc (sep=;)'],'\\n',\n",
    "         'Ef', '=',brunes_reac.loc[i,'Ectocarpus_fasciculatus_genes_assoc (sep=;)'],'\\n',\n",
    "         'Sl', '=',brunes_reac.loc[i,'Scytosiphon_lomentaria_genes_assoc (sep=;)'],'\\n',\n",
    "         'Pf', '=',brunes_reac.loc[i,'Porterinema_fluviatile_genes_assoc (sep=;)'],'\\n',\n",
    "         'Nd', '=',brunes_reac.loc[i,'Nemacystus_decipiens_genes_assoc (sep=;)'],'\\n',\n",
    "         'Co', '=',brunes_reac.loc[i,'Cladosiphon_okamuranus_genes_assoc (sep=;)'],'\\n',\n",
    "         'Sj', '=',brunes_reac.loc[i,'Saccharina_japonica_genes_assoc (sep=;)'],'\\n',\n",
    "         'Up', '=',brunes_reac.loc[i,'Undaria_pinnatifida_genes_assoc (sep=;)'])"
   ]
  },
  {
   "cell_type": "code",
   "execution_count": 44,
   "id": "ab740cee",
   "metadata": {},
   "outputs": [
    {
     "name": "stdout",
     "output_type": "stream",
     "text": [
      "NAPHTHOATE-SYN-RXN\n",
      "RXN-17753\n"
     ]
    }
   ],
   "source": [
    "print(reaction[3473])\n",
    "print(reaction[1221])"
   ]
  },
  {
   "cell_type": "code",
   "execution_count": null,
   "id": "981cea81",
   "metadata": {},
   "outputs": [],
   "source": []
  },
  {
   "cell_type": "code",
   "execution_count": null,
   "id": "a173e7c2",
   "metadata": {},
   "outputs": [],
   "source": []
  },
  {
   "cell_type": "code",
   "execution_count": null,
   "id": "2d94d140",
   "metadata": {},
   "outputs": [],
   "source": []
  }
 ],
 "metadata": {
  "kernelspec": {
   "display_name": "Python 3 (ipykernel)",
   "language": "python",
   "name": "python3"
  },
  "language_info": {
   "codemirror_mode": {
    "name": "ipython",
    "version": 3
   },
   "file_extension": ".py",
   "mimetype": "text/x-python",
   "name": "python",
   "nbconvert_exporter": "python",
   "pygments_lexer": "ipython3",
   "version": "3.9.7"
  }
 },
 "nbformat": 4,
 "nbformat_minor": 5
}
